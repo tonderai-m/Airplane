{
 "cells": [
  {
   "cell_type": "code",
   "execution_count": 11,
   "metadata": {},
   "outputs": [],
   "source": [
    "import pandas as pd "
   ]
  },
  {
   "cell_type": "code",
   "execution_count": 29,
   "metadata": {},
   "outputs": [],
   "source": [
    "bd = pd.read_csv(\"data/bronze/2024.csv\")"
   ]
  },
  {
   "cell_type": "code",
   "execution_count": 30,
   "metadata": {},
   "outputs": [
    {
     "data": {
      "text/plain": [
       "3"
      ]
     },
     "execution_count": 30,
     "metadata": {},
     "output_type": "execute_result"
    }
   ],
   "source": [
    "len(bd)"
   ]
  },
  {
   "cell_type": "code",
   "execution_count": 9,
   "metadata": {},
   "outputs": [
    {
     "data": {
      "text/plain": [
       "0     During a demonstration flight, a U.S. Army fly...\n",
       "1     Eugene Lefebvre was the first pilot to ever be...\n",
       "2     First U.S. dirigible Akron exploded just offsh...\n",
       "3     The first fatal airplane accident in Canada oc...\n",
       "4     The airship flew into a thunderstorm and encou...\n",
       "5     Hydrogen gas which was being vented was sucked...\n",
       "6     Crashed into trees while attempting to land af...\n",
       "7     Exploded and burned near Neuwerk Island,  when...\n",
       "8            Crashed near the Black Sea, cause unknown.\n",
       "9     Shot down by British aircraft crashing in flames.\n",
       "10    Shot down in flames by the British 39th Home D...\n",
       "11                                  Crashed in a storm.\n",
       "12    Shot down by British anti-aircraft fire and ai...\n",
       "13                             Caught fire and crashed.\n",
       "14    Struck by lightning and crashed into the Balti...\n",
       "15    Crashed into the sea from an altitude of 3,000...\n",
       "16                       Shot down by British aircraft.\n",
       "17                               Shot down by aircraft.\n",
       "18                       Shot down by British aircraft.\n",
       "19              Shot down by French anti-aircraft fire.\n",
       "20    Exploded and crashed into the sea off the sout...\n",
       "21    Shot down by British aircraft crashing from a ...\n",
       "22                       Shot down by british aircraft.\n",
       "23    Carl Smith was killed when his mail plane feet...\n",
       "24    Caught fire in midair. The pilot leaped from t...\n",
       "25    The mail plane crashed under unknown circumsta...\n",
       "26    The dirigible, cruising at 1,200 ft. caught fi...\n",
       "27    As the plane was passing over Verona the wings...\n",
       "28                                                    ?\n",
       "29    The pilot was performing a mail flight to Balt...\n",
       "30    Crashed into the sea while attempting to land ...\n",
       "31    While on a mail flight to New York the pilot e...\n",
       "32        Crashed in a field while attemptting to land.\n",
       "33    While on a a mail flight, the aircraft hit tre...\n",
       "34    George Sherlock was killed when his mail plane...\n",
       "35    After a fire erupted in flight the pilot decid...\n",
       "36    The aircraft crashed while on approach for unk...\n",
       "37    In worsening weather conditions, the pilot los...\n",
       "38    The aircraft suffered engine failure and crash...\n",
       "39    Crashed while taking off after engine failure....\n",
       "40    The plane crashed during a cargo flight under ...\n",
       "41    While approaching in poor visibility to land, ...\n",
       "42    While en route, the mail plane went out of con...\n",
       "43    The pilot crashed after attempting to make an ...\n",
       "44    The plane struck power lines and crashed in fl...\n",
       "45    Crashed into the Mediterranean while on a mail...\n",
       "46    While on a mail flight the plane crashed while...\n",
       "47    While attempting to land in fog the aircraft h...\n",
       "48    The aircraft crashed into a mountain in poor w...\n",
       "49    The plane failed to gain altitude after taking...\n",
       "50    The aircraft stalled and crashed when an engin...\n",
       "Name: Summary, dtype: object"
      ]
     },
     "execution_count": 9,
     "metadata": {},
     "output_type": "execute_result"
    }
   ],
   "source": [
    "bd[\"Summary\"]"
   ]
  }
 ],
 "metadata": {
  "kernelspec": {
   "display_name": "project_2",
   "language": "python",
   "name": "python3"
  },
  "language_info": {
   "codemirror_mode": {
    "name": "ipython",
    "version": 3
   },
   "file_extension": ".py",
   "mimetype": "text/x-python",
   "name": "python",
   "nbconvert_exporter": "python",
   "pygments_lexer": "ipython3",
   "version": "3.12.2"
  }
 },
 "nbformat": 4,
 "nbformat_minor": 2
}
