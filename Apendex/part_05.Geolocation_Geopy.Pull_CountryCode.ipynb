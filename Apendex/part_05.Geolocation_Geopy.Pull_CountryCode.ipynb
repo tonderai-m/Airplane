{
 "cells": [
  {
   "cell_type": "markdown",
   "metadata": {},
   "source": [
    "## EDA clean AC tpye \n",
    "- Just get the name without the plane type"
   ]
  },
  {
   "cell_type": "code",
   "execution_count": 2,
   "metadata": {},
   "outputs": [],
   "source": [
    "import pandas as pd\n",
    "from geopy.geocoders import Nominatim"
   ]
  },
  {
   "cell_type": "code",
   "execution_count": 3,
   "metadata": {},
   "outputs": [],
   "source": [
    "df = pd.read_csv(\"data/all.csv\")"
   ]
  },
  {
   "cell_type": "code",
   "execution_count": 4,
   "metadata": {},
   "outputs": [],
   "source": [
    "geolocator = Nominatim(user_agent=\"specify_your_app_name\")"
   ]
  },
  {
   "cell_type": "code",
   "execution_count": 5,
   "metadata": {},
   "outputs": [],
   "source": [
    "def country_of_origin(x):\n",
    "    try:\n",
    "        try:\n",
    "            return geolocator.geocode(x, language='en').raw\n",
    "        except: \n",
    "            return geolocator.geocode(x.split(\",\")[-1], language='en').raw\n",
    "    except:\n",
    "         return x"
   ]
  },
  {
   "cell_type": "code",
   "execution_count": 21,
   "metadata": {},
   "outputs": [
    {
     "data": {
      "text/plain": [
       "{'place_id': 236040490,\n",
       " 'licence': 'Data © OpenStreetMap contributors, ODbL 1.0. http://osm.org/copyright',\n",
       " 'osm_type': 'relation',\n",
       " 'osm_id': 449220,\n",
       " 'lat': '23.9739374',\n",
       " 'lon': '120.9820179',\n",
       " 'class': 'boundary',\n",
       " 'type': 'administrative',\n",
       " 'place_rank': 4,\n",
       " 'importance': 0.7494197917813127,\n",
       " 'addresstype': 'country',\n",
       " 'name': 'Taiwan',\n",
       " 'display_name': 'Taiwan',\n",
       " 'boundingbox': ['10.3267657', '26.4372222', '114.2857874', '122.3283000']}"
      ]
     },
     "execution_count": 21,
     "metadata": {},
     "output_type": "execute_result"
    }
   ],
   "source": [
    "geolocator.geocode(\"\",language=\"en\").raw"
   ]
  },
  {
   "cell_type": "code",
   "execution_count": 7,
   "metadata": {},
   "outputs": [],
   "source": [
    "# df[\"name_geopy\"] = df.name.apply(country_of_origin)"
   ]
  },
  {
   "cell_type": "code",
   "execution_count": 8,
   "metadata": {},
   "outputs": [],
   "source": [
    "# df.to_json(\"data/country_codes.json\")"
   ]
  }
 ],
 "metadata": {
  "kernelspec": {
   "display_name": "project_2",
   "language": "python",
   "name": "python3"
  },
  "language_info": {
   "codemirror_mode": {
    "name": "ipython",
    "version": 3
   },
   "file_extension": ".py",
   "mimetype": "text/x-python",
   "name": "python",
   "nbconvert_exporter": "python",
   "pygments_lexer": "ipython3",
   "version": "3.12.2"
  }
 },
 "nbformat": 4,
 "nbformat_minor": 2
}
