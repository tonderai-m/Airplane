{
 "cells": [
  {
   "cell_type": "code",
   "execution_count": 77,
   "metadata": {},
   "outputs": [],
   "source": [
    "import plotly.graph_objects as go\n",
    "import pandas as pd\n",
    "import numpy as np\n"
   ]
  },
  {
   "cell_type": "code",
   "execution_count": 78,
   "metadata": {},
   "outputs": [],
   "source": [
    "df1 = pd.read_csv('data/ready_for_plotting/usa_data.csv')"
   ]
  },
  {
   "cell_type": "code",
   "execution_count": 79,
   "metadata": {},
   "outputs": [
    {
     "data": {
      "text/html": [
       "<div>\n",
       "<style scoped>\n",
       "    .dataframe tbody tr th:only-of-type {\n",
       "        vertical-align: middle;\n",
       "    }\n",
       "\n",
       "    .dataframe tbody tr th {\n",
       "        vertical-align: top;\n",
       "    }\n",
       "\n",
       "    .dataframe thead th {\n",
       "        text-align: right;\n",
       "    }\n",
       "</style>\n",
       "<table border=\"1\" class=\"dataframe\">\n",
       "  <thead>\n",
       "    <tr style=\"text-align: right;\">\n",
       "      <th></th>\n",
       "      <th>Decade</th>\n",
       "      <th>Date</th>\n",
       "      <th>Time</th>\n",
       "      <th>Location</th>\n",
       "      <th>Operator</th>\n",
       "      <th>Flight_Num</th>\n",
       "      <th>Route</th>\n",
       "      <th>Ac_Type</th>\n",
       "      <th>Registration</th>\n",
       "      <th>Cn_Ln</th>\n",
       "      <th>...</th>\n",
       "      <th>Fatalities</th>\n",
       "      <th>Ground</th>\n",
       "      <th>Summary</th>\n",
       "      <th>Aboard_Total</th>\n",
       "      <th>Fatalities_Total</th>\n",
       "      <th>Operator_vs_Military</th>\n",
       "      <th>Country_location</th>\n",
       "      <th>Code</th>\n",
       "      <th>Country_Geopy</th>\n",
       "      <th>State_Code</th>\n",
       "    </tr>\n",
       "  </thead>\n",
       "  <tbody>\n",
       "    <tr>\n",
       "      <th>0</th>\n",
       "      <td>1950</td>\n",
       "      <td>1953-01-07</td>\n",
       "      <td>2055</td>\n",
       "      <td>Issaquah, Washington</td>\n",
       "      <td>Flying Tiger Line</td>\n",
       "      <td>841</td>\n",
       "      <td>Seattle - Cheyenne - Fort Jackson</td>\n",
       "      <td>Douglas C-54B-10-DO</td>\n",
       "      <td>N86574</td>\n",
       "      <td>18350</td>\n",
       "      <td>...</td>\n",
       "      <td>{'total': 7, 'passengers': 3, 'crew': 4}</td>\n",
       "      <td>0.0</td>\n",
       "      <td>The plane struck a tree on a mountain ridge at...</td>\n",
       "      <td>7</td>\n",
       "      <td>7</td>\n",
       "      <td>Flying Tiger Line</td>\n",
       "      <td>{'place_id': 383391892, 'licence': 'Data © Ope...</td>\n",
       "      <td>USA</td>\n",
       "      <td>Washington, United States</td>\n",
       "      <td>WA</td>\n",
       "    </tr>\n",
       "    <tr>\n",
       "      <th>1</th>\n",
       "      <td>1950</td>\n",
       "      <td>1953-01-07</td>\n",
       "      <td>0412</td>\n",
       "      <td>Fish Haven, Idaho</td>\n",
       "      <td>Associated Air Transport</td>\n",
       "      <td>1-6-6A</td>\n",
       "      <td>Boeing Field - Cheyenne</td>\n",
       "      <td>Curtiss C-46</td>\n",
       "      <td>N1648M</td>\n",
       "      <td>22395</td>\n",
       "      <td>...</td>\n",
       "      <td>{'total': 40, 'passengers': 37, 'crew': 3}</td>\n",
       "      <td>0.0</td>\n",
       "      <td>The plane crashed into mountains while en rout...</td>\n",
       "      <td>40</td>\n",
       "      <td>40</td>\n",
       "      <td>Associated Air Transport</td>\n",
       "      <td>{'place_id': 315821592, 'licence': 'Data © Ope...</td>\n",
       "      <td>USA</td>\n",
       "      <td>Idaho, United States</td>\n",
       "      <td>ID</td>\n",
       "    </tr>\n",
       "    <tr>\n",
       "      <th>2</th>\n",
       "      <td>1950</td>\n",
       "      <td>1953-02-14</td>\n",
       "      <td>1710</td>\n",
       "      <td>Off Mobile, Alabama</td>\n",
       "      <td>National Airlines</td>\n",
       "      <td>470</td>\n",
       "      <td>Miami - Orlando - New Orleans</td>\n",
       "      <td>Douglas DC-6</td>\n",
       "      <td>N90893</td>\n",
       "      <td>43057/73</td>\n",
       "      <td>...</td>\n",
       "      <td>{'total': 46, 'passengers': 41, 'crew': 5}</td>\n",
       "      <td>0.0</td>\n",
       "      <td>The aircraft crashed into the Gulf of Mexico o...</td>\n",
       "      <td>46</td>\n",
       "      <td>46</td>\n",
       "      <td>National Airlines</td>\n",
       "      <td>{'place_id': 293252853, 'licence': 'Data © Ope...</td>\n",
       "      <td>USA</td>\n",
       "      <td>Alabama, United States</td>\n",
       "      <td>AL</td>\n",
       "    </tr>\n",
       "    <tr>\n",
       "      <th>3</th>\n",
       "      <td>1950</td>\n",
       "      <td>1953-03-04</td>\n",
       "      <td>0150</td>\n",
       "      <td>Windsor Locks, Connecticut</td>\n",
       "      <td>Slick Airways</td>\n",
       "      <td>162</td>\n",
       "      <td>New York, NY - Winsor Locks, CT</td>\n",
       "      <td>Curtiss C-46F</td>\n",
       "      <td>N4717N</td>\n",
       "      <td>22400</td>\n",
       "      <td>...</td>\n",
       "      <td>{'total': 2, 'passengers': 0, 'crew': 2}</td>\n",
       "      <td>0.0</td>\n",
       "      <td>After missing his first approach to the airpor...</td>\n",
       "      <td>2</td>\n",
       "      <td>2</td>\n",
       "      <td>Slick Airways</td>\n",
       "      <td>{'place_id': 11192627, 'licence': 'Data © Open...</td>\n",
       "      <td>USA</td>\n",
       "      <td>Connecticut, United States</td>\n",
       "      <td>CT</td>\n",
       "    </tr>\n",
       "    <tr>\n",
       "      <th>4</th>\n",
       "      <td>1950</td>\n",
       "      <td>1953-03-20</td>\n",
       "      <td>1838</td>\n",
       "      <td>Alvarado, California</td>\n",
       "      <td>Transocean Air Lines</td>\n",
       "      <td>942</td>\n",
       "      <td>Roswell - Oakland - Guam</td>\n",
       "      <td>Douglas DC-4  (C-54-10-DO)</td>\n",
       "      <td>N88942</td>\n",
       "      <td>36076</td>\n",
       "      <td>...</td>\n",
       "      <td>{'total': 35, 'passengers': 30, 'crew': 5}</td>\n",
       "      <td>0.0</td>\n",
       "      <td>The aircraft crashed into a flat barley field ...</td>\n",
       "      <td>35</td>\n",
       "      <td>35</td>\n",
       "      <td>Transocean Air Lines</td>\n",
       "      <td>{'place_id': 311607871, 'licence': 'Data © Ope...</td>\n",
       "      <td>USA</td>\n",
       "      <td>California, United States</td>\n",
       "      <td>CA</td>\n",
       "    </tr>\n",
       "    <tr>\n",
       "      <th>...</th>\n",
       "      <td>...</td>\n",
       "      <td>...</td>\n",
       "      <td>...</td>\n",
       "      <td>...</td>\n",
       "      <td>...</td>\n",
       "      <td>...</td>\n",
       "      <td>...</td>\n",
       "      <td>...</td>\n",
       "      <td>...</td>\n",
       "      <td>...</td>\n",
       "      <td>...</td>\n",
       "      <td>...</td>\n",
       "      <td>...</td>\n",
       "      <td>...</td>\n",
       "      <td>...</td>\n",
       "      <td>...</td>\n",
       "      <td>...</td>\n",
       "      <td>...</td>\n",
       "      <td>...</td>\n",
       "      <td>...</td>\n",
       "      <td>...</td>\n",
       "    </tr>\n",
       "    <tr>\n",
       "      <th>1047</th>\n",
       "      <td>1970</td>\n",
       "      <td>1976-03-07</td>\n",
       "      <td>1107</td>\n",
       "      <td>Igiugig, Alaska</td>\n",
       "      <td>Kodiak Western Alaska Airlines</td>\n",
       "      <td>NaN</td>\n",
       "      <td>South Nanek, AK - Dillingham, AK</td>\n",
       "      <td>Cessna 207</td>\n",
       "      <td>N91142</td>\n",
       "      <td>20700089</td>\n",
       "      <td>...</td>\n",
       "      <td>{'total': 4, 'passengers': 3, 'crew': 1}</td>\n",
       "      <td>0.0</td>\n",
       "      <td>Continued VFR flight in to adverse weather.</td>\n",
       "      <td>4</td>\n",
       "      <td>4</td>\n",
       "      <td>Kodiak Western Alaska Airlines</td>\n",
       "      <td>{'place_id': 375155709, 'licence': 'Data © Ope...</td>\n",
       "      <td>USA</td>\n",
       "      <td>Alaska, United States</td>\n",
       "      <td>AK</td>\n",
       "    </tr>\n",
       "    <tr>\n",
       "      <th>1048</th>\n",
       "      <td>1970</td>\n",
       "      <td>1976-04-05</td>\n",
       "      <td>0819</td>\n",
       "      <td>Ketchikan, Alaska</td>\n",
       "      <td>Alaska Airlines</td>\n",
       "      <td>60</td>\n",
       "      <td>Juneau - Ketchikan</td>\n",
       "      <td>Boeing B-727-81</td>\n",
       "      <td>N124AS</td>\n",
       "      <td>18821</td>\n",
       "      <td>...</td>\n",
       "      <td>{'total': 1, 'passengers': 1, 'crew': 0}</td>\n",
       "      <td>0.0</td>\n",
       "      <td>The plane overran the runway after landing at ...</td>\n",
       "      <td>50</td>\n",
       "      <td>1</td>\n",
       "      <td>Alaska Airlines</td>\n",
       "      <td>{'place_id': 32595077, 'licence': 'Data © Open...</td>\n",
       "      <td>USA</td>\n",
       "      <td>Alaska, United States</td>\n",
       "      <td>AK</td>\n",
       "    </tr>\n",
       "    <tr>\n",
       "      <th>1049</th>\n",
       "      <td>1970</td>\n",
       "      <td>1976-09-02</td>\n",
       "      <td>1715</td>\n",
       "      <td>Hawk Inlet, Alaska</td>\n",
       "      <td>Temsco Helicopter - Air Taxi</td>\n",
       "      <td>NaN</td>\n",
       "      <td>NaN</td>\n",
       "      <td>Hughes 369HS</td>\n",
       "      <td>N9172F</td>\n",
       "      <td>NaN</td>\n",
       "      <td>...</td>\n",
       "      <td>{'total': 3, 'passengers': 2, 'crew': 1}</td>\n",
       "      <td>0.0</td>\n",
       "      <td>Crashed while climbing to cruise altitude. Fai...</td>\n",
       "      <td>4</td>\n",
       "      <td>3</td>\n",
       "      <td>Temsco Helicopter - Air Taxi</td>\n",
       "      <td>{'place_id': 32778117, 'licence': 'Data © Open...</td>\n",
       "      <td>USA</td>\n",
       "      <td>Alaska, United States</td>\n",
       "      <td>AK</td>\n",
       "    </tr>\n",
       "    <tr>\n",
       "      <th>1050</th>\n",
       "      <td>1970</td>\n",
       "      <td>1976-09-26</td>\n",
       "      <td>0830</td>\n",
       "      <td>Near Alpena, Michigan</td>\n",
       "      <td>Military - U.S. Air Force</td>\n",
       "      <td>NaN</td>\n",
       "      <td>Kenneth Ingalls Sawyer - Oscoda-Wurtsmith</td>\n",
       "      <td>Boeing KC-135A</td>\n",
       "      <td>61-0296</td>\n",
       "      <td>18203/518</td>\n",
       "      <td>...</td>\n",
       "      <td>{'total': 15, 'passengers': 12, 'crew': 3}</td>\n",
       "      <td>0.0</td>\n",
       "      <td>Crash-landed in rugged terrain broke up and la...</td>\n",
       "      <td>20</td>\n",
       "      <td>15</td>\n",
       "      <td>Military</td>\n",
       "      <td>{'place_id': 23457604, 'licence': 'Data © Open...</td>\n",
       "      <td>USA</td>\n",
       "      <td>Michigan, United States</td>\n",
       "      <td>MI</td>\n",
       "    </tr>\n",
       "    <tr>\n",
       "      <th>1051</th>\n",
       "      <td>1970</td>\n",
       "      <td>1976-12-12</td>\n",
       "      <td>2326</td>\n",
       "      <td>Cape May, New Jersey</td>\n",
       "      <td>Atlantic City Airlines</td>\n",
       "      <td>977</td>\n",
       "      <td>Atlantic City - Cap May</td>\n",
       "      <td>de Havilland Canada DHC-6 Twin Otter 300</td>\n",
       "      <td>N101AC</td>\n",
       "      <td>262</td>\n",
       "      <td>...</td>\n",
       "      <td>{'total': 3, 'passengers': 3, 'crew': 1}</td>\n",
       "      <td>0.0</td>\n",
       "      <td>The plane crashed short of the runway in rain....</td>\n",
       "      <td>10</td>\n",
       "      <td>3</td>\n",
       "      <td>Atlantic City Airlines</td>\n",
       "      <td>{'place_id': 1881913, 'licence': 'Data © OpenS...</td>\n",
       "      <td>USA</td>\n",
       "      <td>New Jersey, United States</td>\n",
       "      <td>NJ</td>\n",
       "    </tr>\n",
       "  </tbody>\n",
       "</table>\n",
       "<p>1052 rows × 21 columns</p>\n",
       "</div>"
      ],
      "text/plain": [
       "      Decade        Date  Time                    Location  \\\n",
       "0       1950  1953-01-07  2055        Issaquah, Washington   \n",
       "1       1950  1953-01-07  0412           Fish Haven, Idaho   \n",
       "2       1950  1953-02-14  1710         Off Mobile, Alabama   \n",
       "3       1950  1953-03-04  0150  Windsor Locks, Connecticut   \n",
       "4       1950  1953-03-20  1838        Alvarado, California   \n",
       "...      ...         ...   ...                         ...   \n",
       "1047    1970  1976-03-07  1107             Igiugig, Alaska   \n",
       "1048    1970  1976-04-05  0819           Ketchikan, Alaska   \n",
       "1049    1970  1976-09-02  1715          Hawk Inlet, Alaska   \n",
       "1050    1970  1976-09-26  0830       Near Alpena, Michigan   \n",
       "1051    1970  1976-12-12  2326        Cape May, New Jersey   \n",
       "\n",
       "                            Operator Flight_Num  \\\n",
       "0                  Flying Tiger Line        841   \n",
       "1           Associated Air Transport     1-6-6A   \n",
       "2                  National Airlines        470   \n",
       "3                      Slick Airways        162   \n",
       "4               Transocean Air Lines        942   \n",
       "...                              ...        ...   \n",
       "1047  Kodiak Western Alaska Airlines        NaN   \n",
       "1048                 Alaska Airlines         60   \n",
       "1049    Temsco Helicopter - Air Taxi        NaN   \n",
       "1050       Military - U.S. Air Force        NaN   \n",
       "1051          Atlantic City Airlines        977   \n",
       "\n",
       "                                          Route  \\\n",
       "0             Seattle - Cheyenne - Fort Jackson   \n",
       "1                       Boeing Field - Cheyenne   \n",
       "2                 Miami - Orlando - New Orleans   \n",
       "3               New York, NY - Winsor Locks, CT   \n",
       "4                      Roswell - Oakland - Guam   \n",
       "...                                         ...   \n",
       "1047           South Nanek, AK - Dillingham, AK   \n",
       "1048                         Juneau - Ketchikan   \n",
       "1049                                        NaN   \n",
       "1050  Kenneth Ingalls Sawyer - Oscoda-Wurtsmith   \n",
       "1051                    Atlantic City - Cap May   \n",
       "\n",
       "                                       Ac_Type Registration      Cn_Ln  ...  \\\n",
       "0                          Douglas C-54B-10-DO       N86574      18350  ...   \n",
       "1                                 Curtiss C-46       N1648M      22395  ...   \n",
       "2                                 Douglas DC-6       N90893   43057/73  ...   \n",
       "3                                Curtiss C-46F       N4717N      22400  ...   \n",
       "4                   Douglas DC-4  (C-54-10-DO)       N88942      36076  ...   \n",
       "...                                        ...          ...        ...  ...   \n",
       "1047                                Cessna 207       N91142   20700089  ...   \n",
       "1048                           Boeing B-727-81       N124AS      18821  ...   \n",
       "1049                              Hughes 369HS       N9172F        NaN  ...   \n",
       "1050                            Boeing KC-135A      61-0296  18203/518  ...   \n",
       "1051  de Havilland Canada DHC-6 Twin Otter 300       N101AC        262  ...   \n",
       "\n",
       "                                      Fatalities Ground  \\\n",
       "0       {'total': 7, 'passengers': 3, 'crew': 4}    0.0   \n",
       "1     {'total': 40, 'passengers': 37, 'crew': 3}    0.0   \n",
       "2     {'total': 46, 'passengers': 41, 'crew': 5}    0.0   \n",
       "3       {'total': 2, 'passengers': 0, 'crew': 2}    0.0   \n",
       "4     {'total': 35, 'passengers': 30, 'crew': 5}    0.0   \n",
       "...                                          ...    ...   \n",
       "1047    {'total': 4, 'passengers': 3, 'crew': 1}    0.0   \n",
       "1048    {'total': 1, 'passengers': 1, 'crew': 0}    0.0   \n",
       "1049    {'total': 3, 'passengers': 2, 'crew': 1}    0.0   \n",
       "1050  {'total': 15, 'passengers': 12, 'crew': 3}    0.0   \n",
       "1051    {'total': 3, 'passengers': 3, 'crew': 1}    0.0   \n",
       "\n",
       "                                                Summary Aboard_Total  \\\n",
       "0     The plane struck a tree on a mountain ridge at...            7   \n",
       "1     The plane crashed into mountains while en rout...           40   \n",
       "2     The aircraft crashed into the Gulf of Mexico o...           46   \n",
       "3     After missing his first approach to the airpor...            2   \n",
       "4     The aircraft crashed into a flat barley field ...           35   \n",
       "...                                                 ...          ...   \n",
       "1047        Continued VFR flight in to adverse weather.            4   \n",
       "1048  The plane overran the runway after landing at ...           50   \n",
       "1049  Crashed while climbing to cruise altitude. Fai...            4   \n",
       "1050  Crash-landed in rugged terrain broke up and la...           20   \n",
       "1051  The plane crashed short of the runway in rain....           10   \n",
       "\n",
       "      Fatalities_Total            Operator_vs_Military  \\\n",
       "0                    7               Flying Tiger Line   \n",
       "1                   40        Associated Air Transport   \n",
       "2                   46               National Airlines   \n",
       "3                    2                   Slick Airways   \n",
       "4                   35            Transocean Air Lines   \n",
       "...                ...                             ...   \n",
       "1047                 4  Kodiak Western Alaska Airlines   \n",
       "1048                 1                 Alaska Airlines   \n",
       "1049                 3    Temsco Helicopter - Air Taxi   \n",
       "1050                15                        Military   \n",
       "1051                 3          Atlantic City Airlines   \n",
       "\n",
       "                                       Country_location Code  \\\n",
       "0     {'place_id': 383391892, 'licence': 'Data © Ope...  USA   \n",
       "1     {'place_id': 315821592, 'licence': 'Data © Ope...  USA   \n",
       "2     {'place_id': 293252853, 'licence': 'Data © Ope...  USA   \n",
       "3     {'place_id': 11192627, 'licence': 'Data © Open...  USA   \n",
       "4     {'place_id': 311607871, 'licence': 'Data © Ope...  USA   \n",
       "...                                                 ...  ...   \n",
       "1047  {'place_id': 375155709, 'licence': 'Data © Ope...  USA   \n",
       "1048  {'place_id': 32595077, 'licence': 'Data © Open...  USA   \n",
       "1049  {'place_id': 32778117, 'licence': 'Data © Open...  USA   \n",
       "1050  {'place_id': 23457604, 'licence': 'Data © Open...  USA   \n",
       "1051  {'place_id': 1881913, 'licence': 'Data © OpenS...  USA   \n",
       "\n",
       "                   Country_Geopy State_Code  \n",
       "0      Washington, United States         WA  \n",
       "1           Idaho, United States         ID  \n",
       "2         Alabama, United States         AL  \n",
       "3     Connecticut, United States         CT  \n",
       "4      California, United States         CA  \n",
       "...                          ...        ...  \n",
       "1047       Alaska, United States         AK  \n",
       "1048       Alaska, United States         AK  \n",
       "1049       Alaska, United States         AK  \n",
       "1050     Michigan, United States         MI  \n",
       "1051   New Jersey, United States         NJ  \n",
       "\n",
       "[1052 rows x 21 columns]"
      ]
     },
     "execution_count": 79,
     "metadata": {},
     "output_type": "execute_result"
    }
   ],
   "source": [
    "df1"
   ]
  },
  {
   "cell_type": "code",
   "execution_count": 80,
   "metadata": {},
   "outputs": [],
   "source": [
    "def check_unique(x):\n",
    "    return x.split(',')[0].strip()"
   ]
  },
  {
   "cell_type": "code",
   "execution_count": 81,
   "metadata": {},
   "outputs": [],
   "source": [
    "df1['State_Geopy'] = df1.Country_Geopy.apply(check_unique)"
   ]
  },
  {
   "cell_type": "code",
   "execution_count": 82,
   "metadata": {},
   "outputs": [
    {
     "data": {
      "text/html": [
       "<div>\n",
       "<style scoped>\n",
       "    .dataframe tbody tr th:only-of-type {\n",
       "        vertical-align: middle;\n",
       "    }\n",
       "\n",
       "    .dataframe tbody tr th {\n",
       "        vertical-align: top;\n",
       "    }\n",
       "\n",
       "    .dataframe thead th {\n",
       "        text-align: right;\n",
       "    }\n",
       "</style>\n",
       "<table border=\"1\" class=\"dataframe\">\n",
       "  <thead>\n",
       "    <tr style=\"text-align: right;\">\n",
       "      <th></th>\n",
       "      <th>Decade</th>\n",
       "      <th>Date</th>\n",
       "      <th>Time</th>\n",
       "      <th>Location</th>\n",
       "      <th>Operator</th>\n",
       "      <th>Flight_Num</th>\n",
       "      <th>Route</th>\n",
       "      <th>Ac_Type</th>\n",
       "      <th>Registration</th>\n",
       "      <th>Cn_Ln</th>\n",
       "      <th>...</th>\n",
       "      <th>Ground</th>\n",
       "      <th>Summary</th>\n",
       "      <th>Aboard_Total</th>\n",
       "      <th>Fatalities_Total</th>\n",
       "      <th>Operator_vs_Military</th>\n",
       "      <th>Country_location</th>\n",
       "      <th>Code</th>\n",
       "      <th>Country_Geopy</th>\n",
       "      <th>State_Code</th>\n",
       "      <th>State_Geopy</th>\n",
       "    </tr>\n",
       "  </thead>\n",
       "  <tbody>\n",
       "    <tr>\n",
       "      <th>0</th>\n",
       "      <td>1950</td>\n",
       "      <td>1953-01-07</td>\n",
       "      <td>2055</td>\n",
       "      <td>Issaquah, Washington</td>\n",
       "      <td>Flying Tiger Line</td>\n",
       "      <td>841</td>\n",
       "      <td>Seattle - Cheyenne - Fort Jackson</td>\n",
       "      <td>Douglas C-54B-10-DO</td>\n",
       "      <td>N86574</td>\n",
       "      <td>18350</td>\n",
       "      <td>...</td>\n",
       "      <td>0.0</td>\n",
       "      <td>The plane struck a tree on a mountain ridge at...</td>\n",
       "      <td>7</td>\n",
       "      <td>7</td>\n",
       "      <td>Flying Tiger Line</td>\n",
       "      <td>{'place_id': 383391892, 'licence': 'Data © Ope...</td>\n",
       "      <td>USA</td>\n",
       "      <td>Washington, United States</td>\n",
       "      <td>WA</td>\n",
       "      <td>Washington</td>\n",
       "    </tr>\n",
       "    <tr>\n",
       "      <th>1</th>\n",
       "      <td>1950</td>\n",
       "      <td>1953-01-07</td>\n",
       "      <td>0412</td>\n",
       "      <td>Fish Haven, Idaho</td>\n",
       "      <td>Associated Air Transport</td>\n",
       "      <td>1-6-6A</td>\n",
       "      <td>Boeing Field - Cheyenne</td>\n",
       "      <td>Curtiss C-46</td>\n",
       "      <td>N1648M</td>\n",
       "      <td>22395</td>\n",
       "      <td>...</td>\n",
       "      <td>0.0</td>\n",
       "      <td>The plane crashed into mountains while en rout...</td>\n",
       "      <td>40</td>\n",
       "      <td>40</td>\n",
       "      <td>Associated Air Transport</td>\n",
       "      <td>{'place_id': 315821592, 'licence': 'Data © Ope...</td>\n",
       "      <td>USA</td>\n",
       "      <td>Idaho, United States</td>\n",
       "      <td>ID</td>\n",
       "      <td>Idaho</td>\n",
       "    </tr>\n",
       "    <tr>\n",
       "      <th>2</th>\n",
       "      <td>1950</td>\n",
       "      <td>1953-02-14</td>\n",
       "      <td>1710</td>\n",
       "      <td>Off Mobile, Alabama</td>\n",
       "      <td>National Airlines</td>\n",
       "      <td>470</td>\n",
       "      <td>Miami - Orlando - New Orleans</td>\n",
       "      <td>Douglas DC-6</td>\n",
       "      <td>N90893</td>\n",
       "      <td>43057/73</td>\n",
       "      <td>...</td>\n",
       "      <td>0.0</td>\n",
       "      <td>The aircraft crashed into the Gulf of Mexico o...</td>\n",
       "      <td>46</td>\n",
       "      <td>46</td>\n",
       "      <td>National Airlines</td>\n",
       "      <td>{'place_id': 293252853, 'licence': 'Data © Ope...</td>\n",
       "      <td>USA</td>\n",
       "      <td>Alabama, United States</td>\n",
       "      <td>AL</td>\n",
       "      <td>Alabama</td>\n",
       "    </tr>\n",
       "    <tr>\n",
       "      <th>3</th>\n",
       "      <td>1950</td>\n",
       "      <td>1953-03-04</td>\n",
       "      <td>0150</td>\n",
       "      <td>Windsor Locks, Connecticut</td>\n",
       "      <td>Slick Airways</td>\n",
       "      <td>162</td>\n",
       "      <td>New York, NY - Winsor Locks, CT</td>\n",
       "      <td>Curtiss C-46F</td>\n",
       "      <td>N4717N</td>\n",
       "      <td>22400</td>\n",
       "      <td>...</td>\n",
       "      <td>0.0</td>\n",
       "      <td>After missing his first approach to the airpor...</td>\n",
       "      <td>2</td>\n",
       "      <td>2</td>\n",
       "      <td>Slick Airways</td>\n",
       "      <td>{'place_id': 11192627, 'licence': 'Data © Open...</td>\n",
       "      <td>USA</td>\n",
       "      <td>Connecticut, United States</td>\n",
       "      <td>CT</td>\n",
       "      <td>Connecticut</td>\n",
       "    </tr>\n",
       "    <tr>\n",
       "      <th>4</th>\n",
       "      <td>1950</td>\n",
       "      <td>1953-03-20</td>\n",
       "      <td>1838</td>\n",
       "      <td>Alvarado, California</td>\n",
       "      <td>Transocean Air Lines</td>\n",
       "      <td>942</td>\n",
       "      <td>Roswell - Oakland - Guam</td>\n",
       "      <td>Douglas DC-4  (C-54-10-DO)</td>\n",
       "      <td>N88942</td>\n",
       "      <td>36076</td>\n",
       "      <td>...</td>\n",
       "      <td>0.0</td>\n",
       "      <td>The aircraft crashed into a flat barley field ...</td>\n",
       "      <td>35</td>\n",
       "      <td>35</td>\n",
       "      <td>Transocean Air Lines</td>\n",
       "      <td>{'place_id': 311607871, 'licence': 'Data © Ope...</td>\n",
       "      <td>USA</td>\n",
       "      <td>California, United States</td>\n",
       "      <td>CA</td>\n",
       "      <td>California</td>\n",
       "    </tr>\n",
       "    <tr>\n",
       "      <th>...</th>\n",
       "      <td>...</td>\n",
       "      <td>...</td>\n",
       "      <td>...</td>\n",
       "      <td>...</td>\n",
       "      <td>...</td>\n",
       "      <td>...</td>\n",
       "      <td>...</td>\n",
       "      <td>...</td>\n",
       "      <td>...</td>\n",
       "      <td>...</td>\n",
       "      <td>...</td>\n",
       "      <td>...</td>\n",
       "      <td>...</td>\n",
       "      <td>...</td>\n",
       "      <td>...</td>\n",
       "      <td>...</td>\n",
       "      <td>...</td>\n",
       "      <td>...</td>\n",
       "      <td>...</td>\n",
       "      <td>...</td>\n",
       "      <td>...</td>\n",
       "    </tr>\n",
       "    <tr>\n",
       "      <th>1047</th>\n",
       "      <td>1970</td>\n",
       "      <td>1976-03-07</td>\n",
       "      <td>1107</td>\n",
       "      <td>Igiugig, Alaska</td>\n",
       "      <td>Kodiak Western Alaska Airlines</td>\n",
       "      <td>NaN</td>\n",
       "      <td>South Nanek, AK - Dillingham, AK</td>\n",
       "      <td>Cessna 207</td>\n",
       "      <td>N91142</td>\n",
       "      <td>20700089</td>\n",
       "      <td>...</td>\n",
       "      <td>0.0</td>\n",
       "      <td>Continued VFR flight in to adverse weather.</td>\n",
       "      <td>4</td>\n",
       "      <td>4</td>\n",
       "      <td>Kodiak Western Alaska Airlines</td>\n",
       "      <td>{'place_id': 375155709, 'licence': 'Data © Ope...</td>\n",
       "      <td>USA</td>\n",
       "      <td>Alaska, United States</td>\n",
       "      <td>AK</td>\n",
       "      <td>Alaska</td>\n",
       "    </tr>\n",
       "    <tr>\n",
       "      <th>1048</th>\n",
       "      <td>1970</td>\n",
       "      <td>1976-04-05</td>\n",
       "      <td>0819</td>\n",
       "      <td>Ketchikan, Alaska</td>\n",
       "      <td>Alaska Airlines</td>\n",
       "      <td>60</td>\n",
       "      <td>Juneau - Ketchikan</td>\n",
       "      <td>Boeing B-727-81</td>\n",
       "      <td>N124AS</td>\n",
       "      <td>18821</td>\n",
       "      <td>...</td>\n",
       "      <td>0.0</td>\n",
       "      <td>The plane overran the runway after landing at ...</td>\n",
       "      <td>50</td>\n",
       "      <td>1</td>\n",
       "      <td>Alaska Airlines</td>\n",
       "      <td>{'place_id': 32595077, 'licence': 'Data © Open...</td>\n",
       "      <td>USA</td>\n",
       "      <td>Alaska, United States</td>\n",
       "      <td>AK</td>\n",
       "      <td>Alaska</td>\n",
       "    </tr>\n",
       "    <tr>\n",
       "      <th>1049</th>\n",
       "      <td>1970</td>\n",
       "      <td>1976-09-02</td>\n",
       "      <td>1715</td>\n",
       "      <td>Hawk Inlet, Alaska</td>\n",
       "      <td>Temsco Helicopter - Air Taxi</td>\n",
       "      <td>NaN</td>\n",
       "      <td>NaN</td>\n",
       "      <td>Hughes 369HS</td>\n",
       "      <td>N9172F</td>\n",
       "      <td>NaN</td>\n",
       "      <td>...</td>\n",
       "      <td>0.0</td>\n",
       "      <td>Crashed while climbing to cruise altitude. Fai...</td>\n",
       "      <td>4</td>\n",
       "      <td>3</td>\n",
       "      <td>Temsco Helicopter - Air Taxi</td>\n",
       "      <td>{'place_id': 32778117, 'licence': 'Data © Open...</td>\n",
       "      <td>USA</td>\n",
       "      <td>Alaska, United States</td>\n",
       "      <td>AK</td>\n",
       "      <td>Alaska</td>\n",
       "    </tr>\n",
       "    <tr>\n",
       "      <th>1050</th>\n",
       "      <td>1970</td>\n",
       "      <td>1976-09-26</td>\n",
       "      <td>0830</td>\n",
       "      <td>Near Alpena, Michigan</td>\n",
       "      <td>Military - U.S. Air Force</td>\n",
       "      <td>NaN</td>\n",
       "      <td>Kenneth Ingalls Sawyer - Oscoda-Wurtsmith</td>\n",
       "      <td>Boeing KC-135A</td>\n",
       "      <td>61-0296</td>\n",
       "      <td>18203/518</td>\n",
       "      <td>...</td>\n",
       "      <td>0.0</td>\n",
       "      <td>Crash-landed in rugged terrain broke up and la...</td>\n",
       "      <td>20</td>\n",
       "      <td>15</td>\n",
       "      <td>Military</td>\n",
       "      <td>{'place_id': 23457604, 'licence': 'Data © Open...</td>\n",
       "      <td>USA</td>\n",
       "      <td>Michigan, United States</td>\n",
       "      <td>MI</td>\n",
       "      <td>Michigan</td>\n",
       "    </tr>\n",
       "    <tr>\n",
       "      <th>1051</th>\n",
       "      <td>1970</td>\n",
       "      <td>1976-12-12</td>\n",
       "      <td>2326</td>\n",
       "      <td>Cape May, New Jersey</td>\n",
       "      <td>Atlantic City Airlines</td>\n",
       "      <td>977</td>\n",
       "      <td>Atlantic City - Cap May</td>\n",
       "      <td>de Havilland Canada DHC-6 Twin Otter 300</td>\n",
       "      <td>N101AC</td>\n",
       "      <td>262</td>\n",
       "      <td>...</td>\n",
       "      <td>0.0</td>\n",
       "      <td>The plane crashed short of the runway in rain....</td>\n",
       "      <td>10</td>\n",
       "      <td>3</td>\n",
       "      <td>Atlantic City Airlines</td>\n",
       "      <td>{'place_id': 1881913, 'licence': 'Data © OpenS...</td>\n",
       "      <td>USA</td>\n",
       "      <td>New Jersey, United States</td>\n",
       "      <td>NJ</td>\n",
       "      <td>New Jersey</td>\n",
       "    </tr>\n",
       "  </tbody>\n",
       "</table>\n",
       "<p>1052 rows × 22 columns</p>\n",
       "</div>"
      ],
      "text/plain": [
       "      Decade        Date  Time                    Location  \\\n",
       "0       1950  1953-01-07  2055        Issaquah, Washington   \n",
       "1       1950  1953-01-07  0412           Fish Haven, Idaho   \n",
       "2       1950  1953-02-14  1710         Off Mobile, Alabama   \n",
       "3       1950  1953-03-04  0150  Windsor Locks, Connecticut   \n",
       "4       1950  1953-03-20  1838        Alvarado, California   \n",
       "...      ...         ...   ...                         ...   \n",
       "1047    1970  1976-03-07  1107             Igiugig, Alaska   \n",
       "1048    1970  1976-04-05  0819           Ketchikan, Alaska   \n",
       "1049    1970  1976-09-02  1715          Hawk Inlet, Alaska   \n",
       "1050    1970  1976-09-26  0830       Near Alpena, Michigan   \n",
       "1051    1970  1976-12-12  2326        Cape May, New Jersey   \n",
       "\n",
       "                            Operator Flight_Num  \\\n",
       "0                  Flying Tiger Line        841   \n",
       "1           Associated Air Transport     1-6-6A   \n",
       "2                  National Airlines        470   \n",
       "3                      Slick Airways        162   \n",
       "4               Transocean Air Lines        942   \n",
       "...                              ...        ...   \n",
       "1047  Kodiak Western Alaska Airlines        NaN   \n",
       "1048                 Alaska Airlines         60   \n",
       "1049    Temsco Helicopter - Air Taxi        NaN   \n",
       "1050       Military - U.S. Air Force        NaN   \n",
       "1051          Atlantic City Airlines        977   \n",
       "\n",
       "                                          Route  \\\n",
       "0             Seattle - Cheyenne - Fort Jackson   \n",
       "1                       Boeing Field - Cheyenne   \n",
       "2                 Miami - Orlando - New Orleans   \n",
       "3               New York, NY - Winsor Locks, CT   \n",
       "4                      Roswell - Oakland - Guam   \n",
       "...                                         ...   \n",
       "1047           South Nanek, AK - Dillingham, AK   \n",
       "1048                         Juneau - Ketchikan   \n",
       "1049                                        NaN   \n",
       "1050  Kenneth Ingalls Sawyer - Oscoda-Wurtsmith   \n",
       "1051                    Atlantic City - Cap May   \n",
       "\n",
       "                                       Ac_Type Registration      Cn_Ln  ...  \\\n",
       "0                          Douglas C-54B-10-DO       N86574      18350  ...   \n",
       "1                                 Curtiss C-46       N1648M      22395  ...   \n",
       "2                                 Douglas DC-6       N90893   43057/73  ...   \n",
       "3                                Curtiss C-46F       N4717N      22400  ...   \n",
       "4                   Douglas DC-4  (C-54-10-DO)       N88942      36076  ...   \n",
       "...                                        ...          ...        ...  ...   \n",
       "1047                                Cessna 207       N91142   20700089  ...   \n",
       "1048                           Boeing B-727-81       N124AS      18821  ...   \n",
       "1049                              Hughes 369HS       N9172F        NaN  ...   \n",
       "1050                            Boeing KC-135A      61-0296  18203/518  ...   \n",
       "1051  de Havilland Canada DHC-6 Twin Otter 300       N101AC        262  ...   \n",
       "\n",
       "     Ground                                            Summary  Aboard_Total  \\\n",
       "0       0.0  The plane struck a tree on a mountain ridge at...             7   \n",
       "1       0.0  The plane crashed into mountains while en rout...            40   \n",
       "2       0.0  The aircraft crashed into the Gulf of Mexico o...            46   \n",
       "3       0.0  After missing his first approach to the airpor...             2   \n",
       "4       0.0  The aircraft crashed into a flat barley field ...            35   \n",
       "...     ...                                                ...           ...   \n",
       "1047    0.0        Continued VFR flight in to adverse weather.             4   \n",
       "1048    0.0  The plane overran the runway after landing at ...            50   \n",
       "1049    0.0  Crashed while climbing to cruise altitude. Fai...             4   \n",
       "1050    0.0  Crash-landed in rugged terrain broke up and la...            20   \n",
       "1051    0.0  The plane crashed short of the runway in rain....            10   \n",
       "\n",
       "     Fatalities_Total            Operator_vs_Military  \\\n",
       "0                   7               Flying Tiger Line   \n",
       "1                  40        Associated Air Transport   \n",
       "2                  46               National Airlines   \n",
       "3                   2                   Slick Airways   \n",
       "4                  35            Transocean Air Lines   \n",
       "...               ...                             ...   \n",
       "1047                4  Kodiak Western Alaska Airlines   \n",
       "1048                1                 Alaska Airlines   \n",
       "1049                3    Temsco Helicopter - Air Taxi   \n",
       "1050               15                        Military   \n",
       "1051                3          Atlantic City Airlines   \n",
       "\n",
       "                                       Country_location Code  \\\n",
       "0     {'place_id': 383391892, 'licence': 'Data © Ope...  USA   \n",
       "1     {'place_id': 315821592, 'licence': 'Data © Ope...  USA   \n",
       "2     {'place_id': 293252853, 'licence': 'Data © Ope...  USA   \n",
       "3     {'place_id': 11192627, 'licence': 'Data © Open...  USA   \n",
       "4     {'place_id': 311607871, 'licence': 'Data © Ope...  USA   \n",
       "...                                                 ...  ...   \n",
       "1047  {'place_id': 375155709, 'licence': 'Data © Ope...  USA   \n",
       "1048  {'place_id': 32595077, 'licence': 'Data © Open...  USA   \n",
       "1049  {'place_id': 32778117, 'licence': 'Data © Open...  USA   \n",
       "1050  {'place_id': 23457604, 'licence': 'Data © Open...  USA   \n",
       "1051  {'place_id': 1881913, 'licence': 'Data © OpenS...  USA   \n",
       "\n",
       "                   Country_Geopy State_Code  State_Geopy  \n",
       "0      Washington, United States         WA   Washington  \n",
       "1           Idaho, United States         ID        Idaho  \n",
       "2         Alabama, United States         AL      Alabama  \n",
       "3     Connecticut, United States         CT  Connecticut  \n",
       "4      California, United States         CA   California  \n",
       "...                          ...        ...          ...  \n",
       "1047       Alaska, United States         AK       Alaska  \n",
       "1048       Alaska, United States         AK       Alaska  \n",
       "1049       Alaska, United States         AK       Alaska  \n",
       "1050     Michigan, United States         MI     Michigan  \n",
       "1051   New Jersey, United States         NJ   New Jersey  \n",
       "\n",
       "[1052 rows x 22 columns]"
      ]
     },
     "execution_count": 82,
     "metadata": {},
     "output_type": "execute_result"
    }
   ],
   "source": [
    "df1"
   ]
  },
  {
   "cell_type": "code",
   "execution_count": 83,
   "metadata": {},
   "outputs": [],
   "source": [
    "df2 = df1.groupby(['State_Code', 'State_Geopy'])['Code'].count()"
   ]
  },
  {
   "cell_type": "code",
   "execution_count": 84,
   "metadata": {},
   "outputs": [],
   "source": [
    "df = pd.DataFrame(df2)"
   ]
  },
  {
   "cell_type": "code",
   "execution_count": 85,
   "metadata": {},
   "outputs": [
    {
     "data": {
      "text/html": [
       "<div>\n",
       "<style scoped>\n",
       "    .dataframe tbody tr th:only-of-type {\n",
       "        vertical-align: middle;\n",
       "    }\n",
       "\n",
       "    .dataframe tbody tr th {\n",
       "        vertical-align: top;\n",
       "    }\n",
       "\n",
       "    .dataframe thead th {\n",
       "        text-align: right;\n",
       "    }\n",
       "</style>\n",
       "<table border=\"1\" class=\"dataframe\">\n",
       "  <thead>\n",
       "    <tr style=\"text-align: right;\">\n",
       "      <th></th>\n",
       "      <th></th>\n",
       "      <th>Code Count</th>\n",
       "    </tr>\n",
       "    <tr>\n",
       "      <th>State_Code</th>\n",
       "      <th>State_Geopy</th>\n",
       "      <th></th>\n",
       "    </tr>\n",
       "  </thead>\n",
       "  <tbody>\n",
       "    <tr>\n",
       "      <th>AK</th>\n",
       "      <th>Alaska</th>\n",
       "      <td>107</td>\n",
       "    </tr>\n",
       "    <tr>\n",
       "      <th>AL</th>\n",
       "      <th>Alabama</th>\n",
       "      <td>6</td>\n",
       "    </tr>\n",
       "    <tr>\n",
       "      <th>AR</th>\n",
       "      <th>Arkansas</th>\n",
       "      <td>6</td>\n",
       "    </tr>\n",
       "    <tr>\n",
       "      <th>AZ</th>\n",
       "      <th>Arizona</th>\n",
       "      <td>16</td>\n",
       "    </tr>\n",
       "    <tr>\n",
       "      <th>CA</th>\n",
       "      <th>California</th>\n",
       "      <td>124</td>\n",
       "    </tr>\n",
       "    <tr>\n",
       "      <th>CO</th>\n",
       "      <th>Colorado</th>\n",
       "      <td>30</td>\n",
       "    </tr>\n",
       "    <tr>\n",
       "      <th>CT</th>\n",
       "      <th>Connecticut</th>\n",
       "      <td>12</td>\n",
       "    </tr>\n",
       "    <tr>\n",
       "      <th>DC</th>\n",
       "      <th>District of Columbia</th>\n",
       "      <td>14</td>\n",
       "    </tr>\n",
       "    <tr>\n",
       "      <th>DE</th>\n",
       "      <th>Delaware</th>\n",
       "      <td>1</td>\n",
       "    </tr>\n",
       "    <tr>\n",
       "      <th>FL</th>\n",
       "      <th>Florida</th>\n",
       "      <td>37</td>\n",
       "    </tr>\n",
       "    <tr>\n",
       "      <th rowspan=\"2\" valign=\"top\">False</th>\n",
       "      <th>United States</th>\n",
       "      <td>1</td>\n",
       "    </tr>\n",
       "    <tr>\n",
       "      <th>Wake Island</th>\n",
       "      <td>1</td>\n",
       "    </tr>\n",
       "    <tr>\n",
       "      <th>GA</th>\n",
       "      <th>Georgia</th>\n",
       "      <td>13</td>\n",
       "    </tr>\n",
       "    <tr>\n",
       "      <th>HI</th>\n",
       "      <th>Hawaii</th>\n",
       "      <td>24</td>\n",
       "    </tr>\n",
       "    <tr>\n",
       "      <th>IA</th>\n",
       "      <th>Iowa</th>\n",
       "      <td>10</td>\n",
       "    </tr>\n",
       "    <tr>\n",
       "      <th>ID</th>\n",
       "      <th>Idaho</th>\n",
       "      <td>7</td>\n",
       "    </tr>\n",
       "    <tr>\n",
       "      <th>IL</th>\n",
       "      <th>Illinois</th>\n",
       "      <td>35</td>\n",
       "    </tr>\n",
       "    <tr>\n",
       "      <th>IN</th>\n",
       "      <th>Indiana</th>\n",
       "      <td>21</td>\n",
       "    </tr>\n",
       "    <tr>\n",
       "      <th>KS</th>\n",
       "      <th>Kansas</th>\n",
       "      <td>8</td>\n",
       "    </tr>\n",
       "    <tr>\n",
       "      <th>KY</th>\n",
       "      <th>Kentucky</th>\n",
       "      <td>12</td>\n",
       "    </tr>\n",
       "    <tr>\n",
       "      <th>LA</th>\n",
       "      <th>Louisiana</th>\n",
       "      <td>18</td>\n",
       "    </tr>\n",
       "    <tr>\n",
       "      <th>MA</th>\n",
       "      <th>Massachusetts</th>\n",
       "      <td>18</td>\n",
       "    </tr>\n",
       "    <tr>\n",
       "      <th>MD</th>\n",
       "      <th>Maryland</th>\n",
       "      <td>19</td>\n",
       "    </tr>\n",
       "    <tr>\n",
       "      <th>ME</th>\n",
       "      <th>Maine</th>\n",
       "      <td>6</td>\n",
       "    </tr>\n",
       "    <tr>\n",
       "      <th>MI</th>\n",
       "      <th>Michigan</th>\n",
       "      <td>15</td>\n",
       "    </tr>\n",
       "    <tr>\n",
       "      <th>MN</th>\n",
       "      <th>Minnesota</th>\n",
       "      <td>12</td>\n",
       "    </tr>\n",
       "    <tr>\n",
       "      <th>MO</th>\n",
       "      <th>Missouri</th>\n",
       "      <td>26</td>\n",
       "    </tr>\n",
       "    <tr>\n",
       "      <th>MS</th>\n",
       "      <th>Mississippi</th>\n",
       "      <td>5</td>\n",
       "    </tr>\n",
       "    <tr>\n",
       "      <th>MT</th>\n",
       "      <th>Montana</th>\n",
       "      <td>12</td>\n",
       "    </tr>\n",
       "    <tr>\n",
       "      <th>NC</th>\n",
       "      <th>North Carolina</th>\n",
       "      <td>21</td>\n",
       "    </tr>\n",
       "    <tr>\n",
       "      <th>NE</th>\n",
       "      <th>Nebraska</th>\n",
       "      <td>5</td>\n",
       "    </tr>\n",
       "    <tr>\n",
       "      <th>NH</th>\n",
       "      <th>New Hampshire</th>\n",
       "      <td>5</td>\n",
       "    </tr>\n",
       "    <tr>\n",
       "      <th>NJ</th>\n",
       "      <th>New Jersey</th>\n",
       "      <td>38</td>\n",
       "    </tr>\n",
       "    <tr>\n",
       "      <th>NM</th>\n",
       "      <th>New Mexico</th>\n",
       "      <td>22</td>\n",
       "    </tr>\n",
       "    <tr>\n",
       "      <th>NV</th>\n",
       "      <th>Nevada</th>\n",
       "      <td>18</td>\n",
       "    </tr>\n",
       "    <tr>\n",
       "      <th>NY</th>\n",
       "      <th>New York</th>\n",
       "      <td>59</td>\n",
       "    </tr>\n",
       "    <tr>\n",
       "      <th>OH</th>\n",
       "      <th>Ohio</th>\n",
       "      <td>44</td>\n",
       "    </tr>\n",
       "    <tr>\n",
       "      <th>OK</th>\n",
       "      <th>Oklahoma</th>\n",
       "      <td>4</td>\n",
       "    </tr>\n",
       "    <tr>\n",
       "      <th>OR</th>\n",
       "      <th>Oregon</th>\n",
       "      <td>11</td>\n",
       "    </tr>\n",
       "    <tr>\n",
       "      <th>PA</th>\n",
       "      <th>Pennsylvania</th>\n",
       "      <td>32</td>\n",
       "    </tr>\n",
       "    <tr>\n",
       "      <th>RI</th>\n",
       "      <th>Rhode Island</th>\n",
       "      <td>2</td>\n",
       "    </tr>\n",
       "    <tr>\n",
       "      <th>SC</th>\n",
       "      <th>South Carolina</th>\n",
       "      <td>7</td>\n",
       "    </tr>\n",
       "    <tr>\n",
       "      <th>SD</th>\n",
       "      <th>South Dakota</th>\n",
       "      <td>2</td>\n",
       "    </tr>\n",
       "    <tr>\n",
       "      <th>TN</th>\n",
       "      <th>Tennessee</th>\n",
       "      <td>12</td>\n",
       "    </tr>\n",
       "    <tr>\n",
       "      <th>TX</th>\n",
       "      <th>Texas</th>\n",
       "      <td>50</td>\n",
       "    </tr>\n",
       "    <tr>\n",
       "      <th>UT</th>\n",
       "      <th>Utah</th>\n",
       "      <td>18</td>\n",
       "    </tr>\n",
       "    <tr>\n",
       "      <th>VA</th>\n",
       "      <th>Virginia</th>\n",
       "      <td>19</td>\n",
       "    </tr>\n",
       "    <tr>\n",
       "      <th>VT</th>\n",
       "      <th>Vermont</th>\n",
       "      <td>3</td>\n",
       "    </tr>\n",
       "    <tr>\n",
       "      <th>WA</th>\n",
       "      <th>Washington</th>\n",
       "      <td>26</td>\n",
       "    </tr>\n",
       "    <tr>\n",
       "      <th>WI</th>\n",
       "      <th>Wisconsin</th>\n",
       "      <td>6</td>\n",
       "    </tr>\n",
       "    <tr>\n",
       "      <th>WV</th>\n",
       "      <th>West Virginia</th>\n",
       "      <td>11</td>\n",
       "    </tr>\n",
       "    <tr>\n",
       "      <th>WY</th>\n",
       "      <th>Wyoming</th>\n",
       "      <td>21</td>\n",
       "    </tr>\n",
       "  </tbody>\n",
       "</table>\n",
       "</div>"
      ],
      "text/plain": [
       "                                 Code Count\n",
       "State_Code State_Geopy                     \n",
       "AK         Alaska                       107\n",
       "AL         Alabama                        6\n",
       "AR         Arkansas                       6\n",
       "AZ         Arizona                       16\n",
       "CA         California                   124\n",
       "CO         Colorado                      30\n",
       "CT         Connecticut                   12\n",
       "DC         District of Columbia          14\n",
       "DE         Delaware                       1\n",
       "FL         Florida                       37\n",
       "False      United States                  1\n",
       "           Wake Island                    1\n",
       "GA         Georgia                       13\n",
       "HI         Hawaii                        24\n",
       "IA         Iowa                          10\n",
       "ID         Idaho                          7\n",
       "IL         Illinois                      35\n",
       "IN         Indiana                       21\n",
       "KS         Kansas                         8\n",
       "KY         Kentucky                      12\n",
       "LA         Louisiana                     18\n",
       "MA         Massachusetts                 18\n",
       "MD         Maryland                      19\n",
       "ME         Maine                          6\n",
       "MI         Michigan                      15\n",
       "MN         Minnesota                     12\n",
       "MO         Missouri                      26\n",
       "MS         Mississippi                    5\n",
       "MT         Montana                       12\n",
       "NC         North Carolina                21\n",
       "NE         Nebraska                       5\n",
       "NH         New Hampshire                  5\n",
       "NJ         New Jersey                    38\n",
       "NM         New Mexico                    22\n",
       "NV         Nevada                        18\n",
       "NY         New York                      59\n",
       "OH         Ohio                          44\n",
       "OK         Oklahoma                       4\n",
       "OR         Oregon                        11\n",
       "PA         Pennsylvania                  32\n",
       "RI         Rhode Island                   2\n",
       "SC         South Carolina                 7\n",
       "SD         South Dakota                   2\n",
       "TN         Tennessee                     12\n",
       "TX         Texas                         50\n",
       "UT         Utah                          18\n",
       "VA         Virginia                      19\n",
       "VT         Vermont                        3\n",
       "WA         Washington                    26\n",
       "WI         Wisconsin                      6\n",
       "WV         West Virginia                 11\n",
       "WY         Wyoming                       21"
      ]
     },
     "execution_count": 85,
     "metadata": {},
     "output_type": "execute_result"
    }
   ],
   "source": [
    "df.columns = ['Code Count']\n",
    "df"
   ]
  },
  {
   "cell_type": "code",
   "execution_count": 86,
   "metadata": {},
   "outputs": [],
   "source": [
    "df['Code'] = df.index.map(lambda x: x[0])\n",
    "df['State'] = df.index.map(lambda x: x[1])"
   ]
  },
  {
   "cell_type": "code",
   "execution_count": 87,
   "metadata": {},
   "outputs": [],
   "source": [
    "df = df[(df[\"Code\"] != \"False\")]"
   ]
  },
  {
   "cell_type": "code",
   "execution_count": 88,
   "metadata": {},
   "outputs": [
    {
     "data": {
      "text/html": [
       "<div>\n",
       "<style scoped>\n",
       "    .dataframe tbody tr th:only-of-type {\n",
       "        vertical-align: middle;\n",
       "    }\n",
       "\n",
       "    .dataframe tbody tr th {\n",
       "        vertical-align: top;\n",
       "    }\n",
       "\n",
       "    .dataframe thead th {\n",
       "        text-align: right;\n",
       "    }\n",
       "</style>\n",
       "<table border=\"1\" class=\"dataframe\">\n",
       "  <thead>\n",
       "    <tr style=\"text-align: right;\">\n",
       "      <th></th>\n",
       "      <th>Code Count</th>\n",
       "      <th>Code</th>\n",
       "      <th>State</th>\n",
       "    </tr>\n",
       "  </thead>\n",
       "  <tbody>\n",
       "    <tr>\n",
       "      <th>0</th>\n",
       "      <td>107</td>\n",
       "      <td>AK</td>\n",
       "      <td>Alaska</td>\n",
       "    </tr>\n",
       "    <tr>\n",
       "      <th>1</th>\n",
       "      <td>6</td>\n",
       "      <td>AL</td>\n",
       "      <td>Alabama</td>\n",
       "    </tr>\n",
       "    <tr>\n",
       "      <th>2</th>\n",
       "      <td>6</td>\n",
       "      <td>AR</td>\n",
       "      <td>Arkansas</td>\n",
       "    </tr>\n",
       "    <tr>\n",
       "      <th>3</th>\n",
       "      <td>16</td>\n",
       "      <td>AZ</td>\n",
       "      <td>Arizona</td>\n",
       "    </tr>\n",
       "    <tr>\n",
       "      <th>4</th>\n",
       "      <td>124</td>\n",
       "      <td>CA</td>\n",
       "      <td>California</td>\n",
       "    </tr>\n",
       "    <tr>\n",
       "      <th>5</th>\n",
       "      <td>30</td>\n",
       "      <td>CO</td>\n",
       "      <td>Colorado</td>\n",
       "    </tr>\n",
       "    <tr>\n",
       "      <th>6</th>\n",
       "      <td>12</td>\n",
       "      <td>CT</td>\n",
       "      <td>Connecticut</td>\n",
       "    </tr>\n",
       "    <tr>\n",
       "      <th>7</th>\n",
       "      <td>14</td>\n",
       "      <td>DC</td>\n",
       "      <td>District of Columbia</td>\n",
       "    </tr>\n",
       "    <tr>\n",
       "      <th>8</th>\n",
       "      <td>1</td>\n",
       "      <td>DE</td>\n",
       "      <td>Delaware</td>\n",
       "    </tr>\n",
       "    <tr>\n",
       "      <th>9</th>\n",
       "      <td>37</td>\n",
       "      <td>FL</td>\n",
       "      <td>Florida</td>\n",
       "    </tr>\n",
       "    <tr>\n",
       "      <th>10</th>\n",
       "      <td>13</td>\n",
       "      <td>GA</td>\n",
       "      <td>Georgia</td>\n",
       "    </tr>\n",
       "    <tr>\n",
       "      <th>11</th>\n",
       "      <td>24</td>\n",
       "      <td>HI</td>\n",
       "      <td>Hawaii</td>\n",
       "    </tr>\n",
       "    <tr>\n",
       "      <th>12</th>\n",
       "      <td>10</td>\n",
       "      <td>IA</td>\n",
       "      <td>Iowa</td>\n",
       "    </tr>\n",
       "    <tr>\n",
       "      <th>13</th>\n",
       "      <td>7</td>\n",
       "      <td>ID</td>\n",
       "      <td>Idaho</td>\n",
       "    </tr>\n",
       "    <tr>\n",
       "      <th>14</th>\n",
       "      <td>35</td>\n",
       "      <td>IL</td>\n",
       "      <td>Illinois</td>\n",
       "    </tr>\n",
       "    <tr>\n",
       "      <th>15</th>\n",
       "      <td>21</td>\n",
       "      <td>IN</td>\n",
       "      <td>Indiana</td>\n",
       "    </tr>\n",
       "    <tr>\n",
       "      <th>16</th>\n",
       "      <td>8</td>\n",
       "      <td>KS</td>\n",
       "      <td>Kansas</td>\n",
       "    </tr>\n",
       "    <tr>\n",
       "      <th>17</th>\n",
       "      <td>12</td>\n",
       "      <td>KY</td>\n",
       "      <td>Kentucky</td>\n",
       "    </tr>\n",
       "    <tr>\n",
       "      <th>18</th>\n",
       "      <td>18</td>\n",
       "      <td>LA</td>\n",
       "      <td>Louisiana</td>\n",
       "    </tr>\n",
       "    <tr>\n",
       "      <th>19</th>\n",
       "      <td>18</td>\n",
       "      <td>MA</td>\n",
       "      <td>Massachusetts</td>\n",
       "    </tr>\n",
       "    <tr>\n",
       "      <th>20</th>\n",
       "      <td>19</td>\n",
       "      <td>MD</td>\n",
       "      <td>Maryland</td>\n",
       "    </tr>\n",
       "    <tr>\n",
       "      <th>21</th>\n",
       "      <td>6</td>\n",
       "      <td>ME</td>\n",
       "      <td>Maine</td>\n",
       "    </tr>\n",
       "    <tr>\n",
       "      <th>22</th>\n",
       "      <td>15</td>\n",
       "      <td>MI</td>\n",
       "      <td>Michigan</td>\n",
       "    </tr>\n",
       "    <tr>\n",
       "      <th>23</th>\n",
       "      <td>12</td>\n",
       "      <td>MN</td>\n",
       "      <td>Minnesota</td>\n",
       "    </tr>\n",
       "    <tr>\n",
       "      <th>24</th>\n",
       "      <td>26</td>\n",
       "      <td>MO</td>\n",
       "      <td>Missouri</td>\n",
       "    </tr>\n",
       "    <tr>\n",
       "      <th>25</th>\n",
       "      <td>5</td>\n",
       "      <td>MS</td>\n",
       "      <td>Mississippi</td>\n",
       "    </tr>\n",
       "    <tr>\n",
       "      <th>26</th>\n",
       "      <td>12</td>\n",
       "      <td>MT</td>\n",
       "      <td>Montana</td>\n",
       "    </tr>\n",
       "    <tr>\n",
       "      <th>27</th>\n",
       "      <td>21</td>\n",
       "      <td>NC</td>\n",
       "      <td>North Carolina</td>\n",
       "    </tr>\n",
       "    <tr>\n",
       "      <th>28</th>\n",
       "      <td>5</td>\n",
       "      <td>NE</td>\n",
       "      <td>Nebraska</td>\n",
       "    </tr>\n",
       "    <tr>\n",
       "      <th>29</th>\n",
       "      <td>5</td>\n",
       "      <td>NH</td>\n",
       "      <td>New Hampshire</td>\n",
       "    </tr>\n",
       "    <tr>\n",
       "      <th>30</th>\n",
       "      <td>38</td>\n",
       "      <td>NJ</td>\n",
       "      <td>New Jersey</td>\n",
       "    </tr>\n",
       "    <tr>\n",
       "      <th>31</th>\n",
       "      <td>22</td>\n",
       "      <td>NM</td>\n",
       "      <td>New Mexico</td>\n",
       "    </tr>\n",
       "    <tr>\n",
       "      <th>32</th>\n",
       "      <td>18</td>\n",
       "      <td>NV</td>\n",
       "      <td>Nevada</td>\n",
       "    </tr>\n",
       "    <tr>\n",
       "      <th>33</th>\n",
       "      <td>59</td>\n",
       "      <td>NY</td>\n",
       "      <td>New York</td>\n",
       "    </tr>\n",
       "    <tr>\n",
       "      <th>34</th>\n",
       "      <td>44</td>\n",
       "      <td>OH</td>\n",
       "      <td>Ohio</td>\n",
       "    </tr>\n",
       "    <tr>\n",
       "      <th>35</th>\n",
       "      <td>4</td>\n",
       "      <td>OK</td>\n",
       "      <td>Oklahoma</td>\n",
       "    </tr>\n",
       "    <tr>\n",
       "      <th>36</th>\n",
       "      <td>11</td>\n",
       "      <td>OR</td>\n",
       "      <td>Oregon</td>\n",
       "    </tr>\n",
       "    <tr>\n",
       "      <th>37</th>\n",
       "      <td>32</td>\n",
       "      <td>PA</td>\n",
       "      <td>Pennsylvania</td>\n",
       "    </tr>\n",
       "    <tr>\n",
       "      <th>38</th>\n",
       "      <td>2</td>\n",
       "      <td>RI</td>\n",
       "      <td>Rhode Island</td>\n",
       "    </tr>\n",
       "    <tr>\n",
       "      <th>39</th>\n",
       "      <td>7</td>\n",
       "      <td>SC</td>\n",
       "      <td>South Carolina</td>\n",
       "    </tr>\n",
       "    <tr>\n",
       "      <th>40</th>\n",
       "      <td>2</td>\n",
       "      <td>SD</td>\n",
       "      <td>South Dakota</td>\n",
       "    </tr>\n",
       "    <tr>\n",
       "      <th>41</th>\n",
       "      <td>12</td>\n",
       "      <td>TN</td>\n",
       "      <td>Tennessee</td>\n",
       "    </tr>\n",
       "    <tr>\n",
       "      <th>42</th>\n",
       "      <td>50</td>\n",
       "      <td>TX</td>\n",
       "      <td>Texas</td>\n",
       "    </tr>\n",
       "    <tr>\n",
       "      <th>43</th>\n",
       "      <td>18</td>\n",
       "      <td>UT</td>\n",
       "      <td>Utah</td>\n",
       "    </tr>\n",
       "    <tr>\n",
       "      <th>44</th>\n",
       "      <td>19</td>\n",
       "      <td>VA</td>\n",
       "      <td>Virginia</td>\n",
       "    </tr>\n",
       "    <tr>\n",
       "      <th>45</th>\n",
       "      <td>3</td>\n",
       "      <td>VT</td>\n",
       "      <td>Vermont</td>\n",
       "    </tr>\n",
       "    <tr>\n",
       "      <th>46</th>\n",
       "      <td>26</td>\n",
       "      <td>WA</td>\n",
       "      <td>Washington</td>\n",
       "    </tr>\n",
       "    <tr>\n",
       "      <th>47</th>\n",
       "      <td>6</td>\n",
       "      <td>WI</td>\n",
       "      <td>Wisconsin</td>\n",
       "    </tr>\n",
       "    <tr>\n",
       "      <th>48</th>\n",
       "      <td>11</td>\n",
       "      <td>WV</td>\n",
       "      <td>West Virginia</td>\n",
       "    </tr>\n",
       "    <tr>\n",
       "      <th>49</th>\n",
       "      <td>21</td>\n",
       "      <td>WY</td>\n",
       "      <td>Wyoming</td>\n",
       "    </tr>\n",
       "  </tbody>\n",
       "</table>\n",
       "</div>"
      ],
      "text/plain": [
       "    Code Count Code                 State\n",
       "0          107   AK                Alaska\n",
       "1            6   AL               Alabama\n",
       "2            6   AR              Arkansas\n",
       "3           16   AZ               Arizona\n",
       "4          124   CA            California\n",
       "5           30   CO              Colorado\n",
       "6           12   CT           Connecticut\n",
       "7           14   DC  District of Columbia\n",
       "8            1   DE              Delaware\n",
       "9           37   FL               Florida\n",
       "10          13   GA               Georgia\n",
       "11          24   HI                Hawaii\n",
       "12          10   IA                  Iowa\n",
       "13           7   ID                 Idaho\n",
       "14          35   IL              Illinois\n",
       "15          21   IN               Indiana\n",
       "16           8   KS                Kansas\n",
       "17          12   KY              Kentucky\n",
       "18          18   LA             Louisiana\n",
       "19          18   MA         Massachusetts\n",
       "20          19   MD              Maryland\n",
       "21           6   ME                 Maine\n",
       "22          15   MI              Michigan\n",
       "23          12   MN             Minnesota\n",
       "24          26   MO              Missouri\n",
       "25           5   MS           Mississippi\n",
       "26          12   MT               Montana\n",
       "27          21   NC        North Carolina\n",
       "28           5   NE              Nebraska\n",
       "29           5   NH         New Hampshire\n",
       "30          38   NJ            New Jersey\n",
       "31          22   NM            New Mexico\n",
       "32          18   NV                Nevada\n",
       "33          59   NY              New York\n",
       "34          44   OH                  Ohio\n",
       "35           4   OK              Oklahoma\n",
       "36          11   OR                Oregon\n",
       "37          32   PA          Pennsylvania\n",
       "38           2   RI          Rhode Island\n",
       "39           7   SC        South Carolina\n",
       "40           2   SD          South Dakota\n",
       "41          12   TN             Tennessee\n",
       "42          50   TX                 Texas\n",
       "43          18   UT                  Utah\n",
       "44          19   VA              Virginia\n",
       "45           3   VT               Vermont\n",
       "46          26   WA            Washington\n",
       "47           6   WI             Wisconsin\n",
       "48          11   WV         West Virginia\n",
       "49          21   WY               Wyoming"
      ]
     },
     "execution_count": 88,
     "metadata": {},
     "output_type": "execute_result"
    }
   ],
   "source": [
    "df.reset_index(drop=True)"
   ]
  },
  {
   "cell_type": "code",
   "execution_count": 89,
   "metadata": {},
   "outputs": [],
   "source": [
    "# Colorscale options\n",
    "#['aggrnyl', 'agsunset', 'algae', 'amp', 'armyrose', 'balance',\n",
    "#              'blackbody', 'bluered', 'blues', 'blugrn', 'bluyl', 'brbg',\n",
    "#              'brwnyl', 'bugn', 'bupu', 'burg', 'burgyl', 'cividis', 'curl',\n",
    "#              'darkmint', 'deep', 'delta', 'dense', 'earth', 'edge', 'electric',\n",
    "#              'emrld', 'fall', 'geyser', 'gnbu', 'gray', 'greens', 'greys',\n",
    "#              'haline', 'hot', 'hsv', 'ice', 'icefire', 'inferno', 'jet',\n",
    "#              'magenta', 'magma', 'matter', 'mint', 'mrybm', 'mygbm', 'oranges',\n",
    "#              'orrd', 'oryel', 'oxy', 'peach', 'phase', 'picnic', 'pinkyl',\n",
    "#              'piyg', 'plasma', 'plotly3', 'portland', 'prgn', 'pubu', 'pubugn',\n",
    "#              'puor', 'purd', 'purp', 'purples', 'purpor', 'rainbow', 'rdbu',\n",
    "#              'rdgy', 'rdpu', 'rdylbu', 'rdylgn', 'redor', 'reds', 'solar',\n",
    "#              'spectral', 'speed', 'sunset', 'sunsetdark', 'teal', 'tealgrn',\n",
    "#              'tealrose', 'tempo', 'temps', 'thermal', 'tropic', 'turbid',\n",
    "#              'turbo', 'twilight', 'viridis', 'ylgn', 'ylgnbu', 'ylorbr',\n",
    "#              'ylorrd']"
   ]
  },
  {
   "cell_type": "code",
   "execution_count": 90,
   "metadata": {},
   "outputs": [
    {
     "data": {
      "application/vnd.plotly.v1+json": {
       "config": {
        "plotlyServerURL": "https://plot.ly"
       },
       "data": [
        {
         "autocolorscale": false,
         "colorbar": {
          "len": 0.75,
          "ticktext": [
           "3",
           "10",
           "32",
           "100",
           "316",
           "1000"
          ],
          "tickvals": [
           0.5,
           1,
           1.5,
           2,
           2.5,
           3
          ],
          "x": 0.9
         },
         "colorscale": [
          [
           0,
           "rgb(0, 155, 158)"
          ],
          [
           0.16666666666666666,
           "rgb(66, 183, 185)"
          ],
          [
           0.3333333333333333,
           "rgb(167, 211, 212)"
          ],
          [
           0.5,
           "rgb(241, 241, 241)"
          ],
          [
           0.6666666666666666,
           "rgb(228, 193, 217)"
          ],
          [
           0.8333333333333334,
           "rgb(214, 145, 193)"
          ],
          [
           1,
           "rgb(199, 93, 171)"
          ]
         ],
         "customdata": [
          107,
          6,
          6,
          16,
          124,
          30,
          12,
          14,
          1,
          37,
          13,
          24,
          10,
          7,
          35,
          21,
          8,
          12,
          18,
          18,
          19,
          6,
          15,
          12,
          26,
          5,
          12,
          21,
          5,
          5,
          38,
          22,
          18,
          59,
          44,
          4,
          11,
          32,
          2,
          7,
          2,
          12,
          50,
          18,
          19,
          3,
          26,
          6,
          11,
          21
         ],
         "hovertemplate": "Total Crashes:%{customdata}",
         "locationmode": "USA-states",
         "locations": [
          "AK",
          "AL",
          "AR",
          "AZ",
          "CA",
          "CO",
          "CT",
          "DC",
          "DE",
          "FL",
          "GA",
          "HI",
          "IA",
          "ID",
          "IL",
          "IN",
          "KS",
          "KY",
          "LA",
          "MA",
          "MD",
          "ME",
          "MI",
          "MN",
          "MO",
          "MS",
          "MT",
          "NC",
          "NE",
          "NH",
          "NJ",
          "NM",
          "NV",
          "NY",
          "OH",
          "OK",
          "OR",
          "PA",
          "RI",
          "SC",
          "SD",
          "TN",
          "TX",
          "UT",
          "VA",
          "VT",
          "WA",
          "WI",
          "WV",
          "WY"
         ],
         "marker": {
          "line": {
           "color": "darkgray",
           "width": 0.5
          }
         },
         "reversescale": false,
         "text": [
          "Alaska",
          "Alabama",
          "Arkansas",
          "Arizona",
          "California",
          "Colorado",
          "Connecticut",
          "District of Columbia",
          "Delaware",
          "Florida",
          "Georgia",
          "Hawaii",
          "Iowa",
          "Idaho",
          "Illinois",
          "Indiana",
          "Kansas",
          "Kentucky",
          "Louisiana",
          "Massachusetts",
          "Maryland",
          "Maine",
          "Michigan",
          "Minnesota",
          "Missouri",
          "Mississippi",
          "Montana",
          "North Carolina",
          "Nebraska",
          "New Hampshire",
          "New Jersey",
          "New Mexico",
          "Nevada",
          "New York",
          "Ohio",
          "Oklahoma",
          "Oregon",
          "Pennsylvania",
          "Rhode Island",
          "South Carolina",
          "South Dakota",
          "Tennessee",
          "Texas",
          "Utah",
          "Virginia",
          "Vermont",
          "Washington",
          "Wisconsin",
          "West Virginia",
          "Wyoming"
         ],
         "type": "choropleth",
         "z": [
          2.0293837776852097,
          0.7781512503836436,
          0.7781512503836436,
          1.2041199826559248,
          2.093421685162235,
          1.4771212547196624,
          1.0791812460476249,
          1.146128035678238,
          0,
          1.568201724066995,
          1.1139433523068367,
          1.380211241711606,
          1,
          0.8450980400142568,
          1.5440680443502757,
          1.3222192947339193,
          0.9030899869919435,
          1.0791812460476249,
          1.255272505103306,
          1.255272505103306,
          1.2787536009528289,
          0.7781512503836436,
          1.1760912590556813,
          1.0791812460476249,
          1.414973347970818,
          0.6989700043360189,
          1.0791812460476249,
          1.3222192947339193,
          0.6989700043360189,
          0.6989700043360189,
          1.5797835966168101,
          1.3424226808222062,
          1.255272505103306,
          1.7708520116421442,
          1.6434526764861874,
          0.6020599913279624,
          1.0413926851582251,
          1.505149978319906,
          0.3010299956639812,
          0.8450980400142568,
          0.3010299956639812,
          1.0791812460476249,
          1.6989700043360187,
          1.255272505103306,
          1.2787536009528289,
          0.47712125471966244,
          1.414973347970818,
          0.7781512503836436,
          1.0413926851582251,
          1.3222192947339193
         ]
        }
       ],
       "layout": {
        "annotations": [
         {
          "showarrow": false,
          "text": "Source:<a href=\"https://www.planecrashinfo.com/database.htm\"> Plane Crash Info</a>",
          "x": 0.55,
          "xref": "paper",
          "y": 0.1,
          "yref": "paper"
         }
        ],
        "geo": {
         "scope": "usa",
         "showcoastlines": false,
         "showframe": false
        },
        "template": {
         "data": {
          "bar": [
           {
            "error_x": {
             "color": "#2a3f5f"
            },
            "error_y": {
             "color": "#2a3f5f"
            },
            "marker": {
             "line": {
              "color": "#E5ECF6",
              "width": 0.5
             },
             "pattern": {
              "fillmode": "overlay",
              "size": 10,
              "solidity": 0.2
             }
            },
            "type": "bar"
           }
          ],
          "barpolar": [
           {
            "marker": {
             "line": {
              "color": "#E5ECF6",
              "width": 0.5
             },
             "pattern": {
              "fillmode": "overlay",
              "size": 10,
              "solidity": 0.2
             }
            },
            "type": "barpolar"
           }
          ],
          "carpet": [
           {
            "aaxis": {
             "endlinecolor": "#2a3f5f",
             "gridcolor": "white",
             "linecolor": "white",
             "minorgridcolor": "white",
             "startlinecolor": "#2a3f5f"
            },
            "baxis": {
             "endlinecolor": "#2a3f5f",
             "gridcolor": "white",
             "linecolor": "white",
             "minorgridcolor": "white",
             "startlinecolor": "#2a3f5f"
            },
            "type": "carpet"
           }
          ],
          "choropleth": [
           {
            "colorbar": {
             "outlinewidth": 0,
             "ticks": ""
            },
            "type": "choropleth"
           }
          ],
          "contour": [
           {
            "colorbar": {
             "outlinewidth": 0,
             "ticks": ""
            },
            "colorscale": [
             [
              0,
              "#0d0887"
             ],
             [
              0.1111111111111111,
              "#46039f"
             ],
             [
              0.2222222222222222,
              "#7201a8"
             ],
             [
              0.3333333333333333,
              "#9c179e"
             ],
             [
              0.4444444444444444,
              "#bd3786"
             ],
             [
              0.5555555555555556,
              "#d8576b"
             ],
             [
              0.6666666666666666,
              "#ed7953"
             ],
             [
              0.7777777777777778,
              "#fb9f3a"
             ],
             [
              0.8888888888888888,
              "#fdca26"
             ],
             [
              1,
              "#f0f921"
             ]
            ],
            "type": "contour"
           }
          ],
          "contourcarpet": [
           {
            "colorbar": {
             "outlinewidth": 0,
             "ticks": ""
            },
            "type": "contourcarpet"
           }
          ],
          "heatmap": [
           {
            "colorbar": {
             "outlinewidth": 0,
             "ticks": ""
            },
            "colorscale": [
             [
              0,
              "#0d0887"
             ],
             [
              0.1111111111111111,
              "#46039f"
             ],
             [
              0.2222222222222222,
              "#7201a8"
             ],
             [
              0.3333333333333333,
              "#9c179e"
             ],
             [
              0.4444444444444444,
              "#bd3786"
             ],
             [
              0.5555555555555556,
              "#d8576b"
             ],
             [
              0.6666666666666666,
              "#ed7953"
             ],
             [
              0.7777777777777778,
              "#fb9f3a"
             ],
             [
              0.8888888888888888,
              "#fdca26"
             ],
             [
              1,
              "#f0f921"
             ]
            ],
            "type": "heatmap"
           }
          ],
          "heatmapgl": [
           {
            "colorbar": {
             "outlinewidth": 0,
             "ticks": ""
            },
            "colorscale": [
             [
              0,
              "#0d0887"
             ],
             [
              0.1111111111111111,
              "#46039f"
             ],
             [
              0.2222222222222222,
              "#7201a8"
             ],
             [
              0.3333333333333333,
              "#9c179e"
             ],
             [
              0.4444444444444444,
              "#bd3786"
             ],
             [
              0.5555555555555556,
              "#d8576b"
             ],
             [
              0.6666666666666666,
              "#ed7953"
             ],
             [
              0.7777777777777778,
              "#fb9f3a"
             ],
             [
              0.8888888888888888,
              "#fdca26"
             ],
             [
              1,
              "#f0f921"
             ]
            ],
            "type": "heatmapgl"
           }
          ],
          "histogram": [
           {
            "marker": {
             "pattern": {
              "fillmode": "overlay",
              "size": 10,
              "solidity": 0.2
             }
            },
            "type": "histogram"
           }
          ],
          "histogram2d": [
           {
            "colorbar": {
             "outlinewidth": 0,
             "ticks": ""
            },
            "colorscale": [
             [
              0,
              "#0d0887"
             ],
             [
              0.1111111111111111,
              "#46039f"
             ],
             [
              0.2222222222222222,
              "#7201a8"
             ],
             [
              0.3333333333333333,
              "#9c179e"
             ],
             [
              0.4444444444444444,
              "#bd3786"
             ],
             [
              0.5555555555555556,
              "#d8576b"
             ],
             [
              0.6666666666666666,
              "#ed7953"
             ],
             [
              0.7777777777777778,
              "#fb9f3a"
             ],
             [
              0.8888888888888888,
              "#fdca26"
             ],
             [
              1,
              "#f0f921"
             ]
            ],
            "type": "histogram2d"
           }
          ],
          "histogram2dcontour": [
           {
            "colorbar": {
             "outlinewidth": 0,
             "ticks": ""
            },
            "colorscale": [
             [
              0,
              "#0d0887"
             ],
             [
              0.1111111111111111,
              "#46039f"
             ],
             [
              0.2222222222222222,
              "#7201a8"
             ],
             [
              0.3333333333333333,
              "#9c179e"
             ],
             [
              0.4444444444444444,
              "#bd3786"
             ],
             [
              0.5555555555555556,
              "#d8576b"
             ],
             [
              0.6666666666666666,
              "#ed7953"
             ],
             [
              0.7777777777777778,
              "#fb9f3a"
             ],
             [
              0.8888888888888888,
              "#fdca26"
             ],
             [
              1,
              "#f0f921"
             ]
            ],
            "type": "histogram2dcontour"
           }
          ],
          "mesh3d": [
           {
            "colorbar": {
             "outlinewidth": 0,
             "ticks": ""
            },
            "type": "mesh3d"
           }
          ],
          "parcoords": [
           {
            "line": {
             "colorbar": {
              "outlinewidth": 0,
              "ticks": ""
             }
            },
            "type": "parcoords"
           }
          ],
          "pie": [
           {
            "automargin": true,
            "type": "pie"
           }
          ],
          "scatter": [
           {
            "fillpattern": {
             "fillmode": "overlay",
             "size": 10,
             "solidity": 0.2
            },
            "type": "scatter"
           }
          ],
          "scatter3d": [
           {
            "line": {
             "colorbar": {
              "outlinewidth": 0,
              "ticks": ""
             }
            },
            "marker": {
             "colorbar": {
              "outlinewidth": 0,
              "ticks": ""
             }
            },
            "type": "scatter3d"
           }
          ],
          "scattercarpet": [
           {
            "marker": {
             "colorbar": {
              "outlinewidth": 0,
              "ticks": ""
             }
            },
            "type": "scattercarpet"
           }
          ],
          "scattergeo": [
           {
            "marker": {
             "colorbar": {
              "outlinewidth": 0,
              "ticks": ""
             }
            },
            "type": "scattergeo"
           }
          ],
          "scattergl": [
           {
            "marker": {
             "colorbar": {
              "outlinewidth": 0,
              "ticks": ""
             }
            },
            "type": "scattergl"
           }
          ],
          "scattermapbox": [
           {
            "marker": {
             "colorbar": {
              "outlinewidth": 0,
              "ticks": ""
             }
            },
            "type": "scattermapbox"
           }
          ],
          "scatterpolar": [
           {
            "marker": {
             "colorbar": {
              "outlinewidth": 0,
              "ticks": ""
             }
            },
            "type": "scatterpolar"
           }
          ],
          "scatterpolargl": [
           {
            "marker": {
             "colorbar": {
              "outlinewidth": 0,
              "ticks": ""
             }
            },
            "type": "scatterpolargl"
           }
          ],
          "scatterternary": [
           {
            "marker": {
             "colorbar": {
              "outlinewidth": 0,
              "ticks": ""
             }
            },
            "type": "scatterternary"
           }
          ],
          "surface": [
           {
            "colorbar": {
             "outlinewidth": 0,
             "ticks": ""
            },
            "colorscale": [
             [
              0,
              "#0d0887"
             ],
             [
              0.1111111111111111,
              "#46039f"
             ],
             [
              0.2222222222222222,
              "#7201a8"
             ],
             [
              0.3333333333333333,
              "#9c179e"
             ],
             [
              0.4444444444444444,
              "#bd3786"
             ],
             [
              0.5555555555555556,
              "#d8576b"
             ],
             [
              0.6666666666666666,
              "#ed7953"
             ],
             [
              0.7777777777777778,
              "#fb9f3a"
             ],
             [
              0.8888888888888888,
              "#fdca26"
             ],
             [
              1,
              "#f0f921"
             ]
            ],
            "type": "surface"
           }
          ],
          "table": [
           {
            "cells": {
             "fill": {
              "color": "#EBF0F8"
             },
             "line": {
              "color": "white"
             }
            },
            "header": {
             "fill": {
              "color": "#C8D4E3"
             },
             "line": {
              "color": "white"
             }
            },
            "type": "table"
           }
          ]
         },
         "layout": {
          "annotationdefaults": {
           "arrowcolor": "#2a3f5f",
           "arrowhead": 0,
           "arrowwidth": 1
          },
          "autotypenumbers": "strict",
          "coloraxis": {
           "colorbar": {
            "outlinewidth": 0,
            "ticks": ""
           }
          },
          "colorscale": {
           "diverging": [
            [
             0,
             "#8e0152"
            ],
            [
             0.1,
             "#c51b7d"
            ],
            [
             0.2,
             "#de77ae"
            ],
            [
             0.3,
             "#f1b6da"
            ],
            [
             0.4,
             "#fde0ef"
            ],
            [
             0.5,
             "#f7f7f7"
            ],
            [
             0.6,
             "#e6f5d0"
            ],
            [
             0.7,
             "#b8e186"
            ],
            [
             0.8,
             "#7fbc41"
            ],
            [
             0.9,
             "#4d9221"
            ],
            [
             1,
             "#276419"
            ]
           ],
           "sequential": [
            [
             0,
             "#0d0887"
            ],
            [
             0.1111111111111111,
             "#46039f"
            ],
            [
             0.2222222222222222,
             "#7201a8"
            ],
            [
             0.3333333333333333,
             "#9c179e"
            ],
            [
             0.4444444444444444,
             "#bd3786"
            ],
            [
             0.5555555555555556,
             "#d8576b"
            ],
            [
             0.6666666666666666,
             "#ed7953"
            ],
            [
             0.7777777777777778,
             "#fb9f3a"
            ],
            [
             0.8888888888888888,
             "#fdca26"
            ],
            [
             1,
             "#f0f921"
            ]
           ],
           "sequentialminus": [
            [
             0,
             "#0d0887"
            ],
            [
             0.1111111111111111,
             "#46039f"
            ],
            [
             0.2222222222222222,
             "#7201a8"
            ],
            [
             0.3333333333333333,
             "#9c179e"
            ],
            [
             0.4444444444444444,
             "#bd3786"
            ],
            [
             0.5555555555555556,
             "#d8576b"
            ],
            [
             0.6666666666666666,
             "#ed7953"
            ],
            [
             0.7777777777777778,
             "#fb9f3a"
            ],
            [
             0.8888888888888888,
             "#fdca26"
            ],
            [
             1,
             "#f0f921"
            ]
           ]
          },
          "colorway": [
           "#636efa",
           "#EF553B",
           "#00cc96",
           "#ab63fa",
           "#FFA15A",
           "#19d3f3",
           "#FF6692",
           "#B6E880",
           "#FF97FF",
           "#FECB52"
          ],
          "font": {
           "color": "#2a3f5f"
          },
          "geo": {
           "bgcolor": "white",
           "lakecolor": "white",
           "landcolor": "#E5ECF6",
           "showlakes": true,
           "showland": true,
           "subunitcolor": "white"
          },
          "hoverlabel": {
           "align": "left"
          },
          "hovermode": "closest",
          "mapbox": {
           "style": "light"
          },
          "paper_bgcolor": "white",
          "plot_bgcolor": "#E5ECF6",
          "polar": {
           "angularaxis": {
            "gridcolor": "white",
            "linecolor": "white",
            "ticks": ""
           },
           "bgcolor": "#E5ECF6",
           "radialaxis": {
            "gridcolor": "white",
            "linecolor": "white",
            "ticks": ""
           }
          },
          "scene": {
           "xaxis": {
            "backgroundcolor": "#E5ECF6",
            "gridcolor": "white",
            "gridwidth": 2,
            "linecolor": "white",
            "showbackground": true,
            "ticks": "",
            "zerolinecolor": "white"
           },
           "yaxis": {
            "backgroundcolor": "#E5ECF6",
            "gridcolor": "white",
            "gridwidth": 2,
            "linecolor": "white",
            "showbackground": true,
            "ticks": "",
            "zerolinecolor": "white"
           },
           "zaxis": {
            "backgroundcolor": "#E5ECF6",
            "gridcolor": "white",
            "gridwidth": 2,
            "linecolor": "white",
            "showbackground": true,
            "ticks": "",
            "zerolinecolor": "white"
           }
          },
          "shapedefaults": {
           "line": {
            "color": "#2a3f5f"
           }
          },
          "ternary": {
           "aaxis": {
            "gridcolor": "white",
            "linecolor": "white",
            "ticks": ""
           },
           "baxis": {
            "gridcolor": "white",
            "linecolor": "white",
            "ticks": ""
           },
           "bgcolor": "#E5ECF6",
           "caxis": {
            "gridcolor": "white",
            "linecolor": "white",
            "ticks": ""
           }
          },
          "title": {
           "x": 0.05
          },
          "xaxis": {
           "automargin": true,
           "gridcolor": "white",
           "linecolor": "white",
           "ticks": "",
           "title": {
            "standoff": 15
           },
           "zerolinecolor": "white",
           "zerolinewidth": 2
          },
          "yaxis": {
           "automargin": true,
           "gridcolor": "white",
           "linecolor": "white",
           "ticks": "",
           "title": {
            "standoff": 15
           },
           "zerolinecolor": "white",
           "zerolinewidth": 2
          }
         }
        },
        "title": {
         "text": "Plane Crashes from 1920 - 2024"
        }
       }
      }
     },
     "metadata": {},
     "output_type": "display_data"
    }
   ],
   "source": [
    "fig = go.Figure(data=go.Choropleth(\n",
    "    locations = df['Code'],\n",
    "    z=np.log10(df['Code Count']),\n",
    "    customdata=df['Code Count'],\n",
    "    hovertemplate='Total Crashes:%{customdata}',\n",
    "    text = df['State'],\n",
    "    colorscale = 'tropic',\n",
    "    autocolorscale=False ,\n",
    "    reversescale=False,\n",
    "    locationmode=\"USA-states\",\n",
    "    marker_line_color='darkgray',\n",
    "    # scope=\"usa\",\n",
    "    marker_line_width=0.5,\n",
    "    colorbar=dict(len=0.75,\n",
    "                  #title='#Cases', \n",
    "                  x=0.9,\n",
    "                  tickvals = [0.5, 1, 1.5, 2, 2.5, 3],\n",
    "                  ticktext = ['3', '10', '32', '100', '316', '1000']),\n",
    "    \n",
    "))\n",
    "\n",
    "fig.update_layout(\n",
    "    title_text='Plane Crashes from 1920 - 2024',\n",
    "    # geo_scope='usa',\n",
    "    geo=dict(\n",
    "        # geo_scope='usa',\n",
    "        scope='usa',\n",
    "        showframe=False,\n",
    "        showcoastlines=False,\n",
    "        # projection_type='equirectangular'\n",
    "    ),\n",
    "    annotations = [dict(\n",
    "        x=0.55,\n",
    "        y=0.1,\n",
    "        xref='paper',\n",
    "        yref='paper',\n",
    "        text='Source:<a href=\"https://www.planecrashinfo.com/database.htm\"> Plane Crash Info</a>',\n",
    "        showarrow = False\n",
    "    )]\n",
    ")\n",
    "\n",
    "fig.show()"
   ]
  }
 ],
 "metadata": {
  "kernelspec": {
   "display_name": "200project2",
   "language": "python",
   "name": "python3"
  },
  "language_info": {
   "codemirror_mode": {
    "name": "ipython",
    "version": 3
   },
   "file_extension": ".py",
   "mimetype": "text/x-python",
   "name": "python",
   "nbconvert_exporter": "python",
   "pygments_lexer": "ipython3",
   "version": "3.12.2"
  }
 },
 "nbformat": 4,
 "nbformat_minor": 2
}
