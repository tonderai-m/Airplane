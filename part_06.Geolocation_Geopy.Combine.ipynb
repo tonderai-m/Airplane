{
 "cells": [
  {
   "cell_type": "code",
   "execution_count": 1,
   "metadata": {},
   "outputs": [],
   "source": [
    "import pandas as pd"
   ]
  },
  {
   "cell_type": "code",
   "execution_count": 2,
   "metadata": {},
   "outputs": [],
   "source": [
    "df = pd.read_csv(\"data/bad_data/unknown_country_location.csv\")"
   ]
  },
  {
   "cell_type": "code",
   "execution_count": 4,
   "metadata": {},
   "outputs": [
    {
     "name": "stdout",
     "output_type": "stream",
     "text": [
      "Mount Phou-Lassy, French Indo-China\n",
      "Pacific Ocean, 325 miles east of Wake Island\n",
      "Off Irish coast\n",
      "Black Sea, Gulf of Karkinitsky\n",
      "Near Eaeka, French Cameroons\n",
      "Ocean, 800 miles east of Newfoundland\n",
      "Off Freetown, Sierre Leone\n",
      "Off  Bimini\n",
      "Atlantic Ocean, 110 miles West of Ireland\n",
      "Off Malaya\n",
      "Off the Panama coast\n",
      "Near Hong Kong International Airport\n",
      "Near Gao, French West Africa\n",
      "Near Sofia, Bugaria\n",
      "Near Kariba, Rhodesia (Zimbabwe)\n",
      "Near Lidköping, Västergötland, Swden\n",
      "Atlantic Ocean off Florida\n",
      "Almelund, Minnisota\n",
      "Bangui, French Equatorial Africa\n",
      "Over the Andaman Sea\n",
      "Near Mt. Cameroon, Buea, British Cameroons\n",
      "Over the North Atlantic\n",
      "Near Tachikawa Air Base\n",
      "Near Jacquinot Bay  New Guinea\n",
      "Off the Florida coast\n",
      "Bangui, French Equatorial Africa\n",
      "Coen, Australila\n",
      "Off the Oregon coast\n",
      "Djibouti, Djbouti\n",
      "Off Puerto Plata, Domincan Republic\n",
      "Near Alliford Bay, British Columbia, Canada2\n",
      "Belgrade, Yugosalvia\n",
      "Over the Pacific Ocean\n",
      "Near Windhoek, South-West  Africa (Namibia)\n",
      "Near Rapid City, South Dekota\n",
      "Gospic,,Coatia\n",
      "Over the Pacific Ocean\n",
      "Over the Mediterranean Sea\n",
      "Off West Africa\n",
      "Off Flores Island, Inodnesia\n",
      "Off Tabones Island  Philippines\n",
      "Over the Atlantic Ocean\n",
      "Near Nag\n",
      "Off the coast of France\n",
      "Over the North Pacific Ocean\n",
      "Over the English Channel\n",
      "Off Turks and Caicos Islands\n",
      "Near Houma Louisiana\n",
      "Ugamsk Gorge, South Kazakistan\n",
      "Over the Gulf of Finland\n",
      "Near Lete Pass\n",
      "Leigh, Kent, Unied Kingdom\n",
      "Off Dakar, French West Africa\n",
      "Desertores Island Región de Los Lagos\n",
      "Off Western Africa\n",
      "Over the Mediterranean Sea\n",
      "Off Point Sur, Californiia\n",
      "Mendotta, Minnisota\n",
      "Off Gibraltar\n",
      "Over the North Sea\n",
      "Off Northern Germany\n",
      "Over the Mediterranean\n",
      "Atlantic Ocean between N.Y. and Bermuda\n",
      "Off Malta-Luqa\n",
      "Near Petreasa Romania\n",
      "Burbank, Calilfornia\n",
      "Near Wawona, Cailifornia\n",
      "Pacific Ocean between Manila and Guam\n",
      "175 miles off the Egyptian coast\n",
      "Sao Gabriel de Cachoeria\n",
      "Near Karkov\n",
      "Off São Tomé Island\n",
      "Over the Gulf of Finland\n",
      "Off Gibraltar\n",
      "Isiro, Democtratic Republic Congo\n",
      "Aru, Democratic Republic Cogo\n",
      "Off the Alaska coast\n",
      "Over the Carribean Sea\n",
      "Off Mar del Plata, Aregntina\n",
      "Mt. Helmos. Greece\n",
      "Obock, French Somaliland\n",
      "Near Villia Greece\n",
      "McGrath, Alakska\n",
      "Near Zephyr Cove, Nevada\n",
      "Boston, Massachutes\n",
      "Dhaka, Baangladesh\n",
      "Off Guam\n",
      "Over the Mediterranean Sea\n",
      "Battambang, Khmer Republic\n",
      "Near Irkutsk Russia\n",
      "Djiring, French Indo-China\n",
      "Pacific Ocean between Hong Kong and Macao\n",
      "Atlantic Ocean, off Bermuda\n",
      "Sibuyan Sea, off the Philippine island of Elalat\n",
      "Midway Island Naval Air Station\n",
      "Off Wake Island\n",
      "Centeral Afghanistan\n",
      "Afghanistan\n"
     ]
    }
   ],
   "source": [
    "for i in df.Country_location:\n",
    "    print(i)"
   ]
  }
 ],
 "metadata": {
  "kernelspec": {
   "display_name": "project_2",
   "language": "python",
   "name": "python3"
  },
  "language_info": {
   "codemirror_mode": {
    "name": "ipython",
    "version": 3
   },
   "file_extension": ".py",
   "mimetype": "text/x-python",
   "name": "python",
   "nbconvert_exporter": "python",
   "pygments_lexer": "ipython3",
   "version": "3.12.2"
  }
 },
 "nbformat": 4,
 "nbformat_minor": 2
}
