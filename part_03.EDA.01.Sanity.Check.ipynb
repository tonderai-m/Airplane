{
 "cells": [
  {
   "cell_type": "markdown",
   "metadata": {},
   "source": [
    "## EDA sanity checking plotting and checking missing values \n",
    "- Checking 9/11 "
   ]
  },
  {
   "cell_type": "code",
   "execution_count": 1,
   "metadata": {},
   "outputs": [],
   "source": [
    "import pandas as pd\n",
    "import matplotlib.pyplot as plt \n",
    "import numpy as np\n",
    "%matplotlib inline"
   ]
  },
  {
   "cell_type": "code",
   "execution_count": 2,
   "metadata": {},
   "outputs": [],
   "source": [
    "# df = pd.read_csv(\"data/silver/1920_2024.csv\")\n",
    "df = pd.read_json(\"data/silver/1920_2024.json\")\n",
    "# df.Ground = df.Ground.astype(\"Int64\") \n",
    "# df.Date = pd.to_datetime(df.Date)"
   ]
  },
  {
   "cell_type": "code",
   "execution_count": 7,
   "metadata": {},
   "outputs": [
    {
     "data": {
      "text/plain": [
       "{'total': 35, 'passengers': 31, 'crew': 4}"
      ]
     },
     "execution_count": 7,
     "metadata": {},
     "output_type": "execute_result"
    }
   ],
   "source": [
    "df.Aboard[0]"
   ]
  },
  {
   "cell_type": "code",
   "execution_count": 45,
   "metadata": {},
   "outputs": [
    {
     "data": {
      "text/html": [
       "<div>\n",
       "<style scoped>\n",
       "    .dataframe tbody tr th:only-of-type {\n",
       "        vertical-align: middle;\n",
       "    }\n",
       "\n",
       "    .dataframe tbody tr th {\n",
       "        vertical-align: top;\n",
       "    }\n",
       "\n",
       "    .dataframe thead th {\n",
       "        text-align: right;\n",
       "    }\n",
       "</style>\n",
       "<table border=\"1\" class=\"dataframe\">\n",
       "  <thead>\n",
       "    <tr style=\"text-align: right;\">\n",
       "      <th></th>\n",
       "      <th>Decade</th>\n",
       "      <th>Date</th>\n",
       "      <th>Time</th>\n",
       "      <th>Location</th>\n",
       "      <th>Operator</th>\n",
       "      <th>Flight_Num</th>\n",
       "      <th>Route</th>\n",
       "      <th>Ac_Type</th>\n",
       "      <th>Registration</th>\n",
       "      <th>Cn_Ln</th>\n",
       "      <th>Aboard</th>\n",
       "      <th>Fatalities</th>\n",
       "      <th>Ground</th>\n",
       "      <th>Summary</th>\n",
       "    </tr>\n",
       "  </thead>\n",
       "  <tbody>\n",
       "    <tr>\n",
       "      <th>2757</th>\n",
       "      <td>2000</td>\n",
       "      <td>2001-09-11</td>\n",
       "      <td>0945</td>\n",
       "      <td>Arlington, Virginia.</td>\n",
       "      <td>American Airlines</td>\n",
       "      <td>77</td>\n",
       "      <td>Washington D.C. - Los Angeles</td>\n",
       "      <td>Boeing B-757-223</td>\n",
       "      <td>N644AA</td>\n",
       "      <td>24602/365</td>\n",
       "      <td>{'total': 64, 'passengers': 58, 'crew': 6}</td>\n",
       "      <td>{'total': 64, 'passengers': 58, 'crew': 6}</td>\n",
       "      <td>125</td>\n",
       "      <td>The aircraft was hijacked after taking off fro...</td>\n",
       "    </tr>\n",
       "    <tr>\n",
       "      <th>2758</th>\n",
       "      <td>2000</td>\n",
       "      <td>2001-09-11</td>\n",
       "      <td>0847</td>\n",
       "      <td>New York City, New York</td>\n",
       "      <td>American Airlines</td>\n",
       "      <td>11</td>\n",
       "      <td>Boston - Los Angeles</td>\n",
       "      <td>Boeing 767-223ER</td>\n",
       "      <td>N334AA</td>\n",
       "      <td>22332/169</td>\n",
       "      <td>{'total': 92, 'passengers': 81, 'crew': 11}</td>\n",
       "      <td>{'total': 92, 'passengers': 81, 'crew': 11}</td>\n",
       "      <td>2750</td>\n",
       "      <td>The aircraft was hijacked shortly after it lef...</td>\n",
       "    </tr>\n",
       "    <tr>\n",
       "      <th>2759</th>\n",
       "      <td>2000</td>\n",
       "      <td>2001-09-11</td>\n",
       "      <td>0903</td>\n",
       "      <td>New York City, New York</td>\n",
       "      <td>United Air Lines</td>\n",
       "      <td>175</td>\n",
       "      <td>Boston - Los Angeles</td>\n",
       "      <td>Boeing B-767-222</td>\n",
       "      <td>N612UA</td>\n",
       "      <td>21873/41</td>\n",
       "      <td>{'total': 65, 'passengers': 56, 'crew': 9}</td>\n",
       "      <td>{'total': 65, 'passengers': 56, 'crew': 9}</td>\n",
       "      <td>2750</td>\n",
       "      <td>The aircraft was hijacked shortly after it lef...</td>\n",
       "    </tr>\n",
       "    <tr>\n",
       "      <th>2760</th>\n",
       "      <td>2000</td>\n",
       "      <td>2001-09-11</td>\n",
       "      <td>1003</td>\n",
       "      <td>Shanksville, Pennsylvania</td>\n",
       "      <td>United Air Lines</td>\n",
       "      <td>93</td>\n",
       "      <td>Newark - San Francisco</td>\n",
       "      <td>Boeing B-757-222</td>\n",
       "      <td>N591UA</td>\n",
       "      <td>28142/718</td>\n",
       "      <td>{'total': 44, 'passengers': 37, 'crew': 7}</td>\n",
       "      <td>{'total': 44, 'passengers': 37, 'crew': 7}</td>\n",
       "      <td>0</td>\n",
       "      <td>The aircraft was hijacked after taking off fro...</td>\n",
       "    </tr>\n",
       "  </tbody>\n",
       "</table>\n",
       "</div>"
      ],
      "text/plain": [
       "      Decade       Date  Time                   Location           Operator  \\\n",
       "2757    2000 2001-09-11  0945       Arlington, Virginia.  American Airlines   \n",
       "2758    2000 2001-09-11  0847    New York City, New York  American Airlines   \n",
       "2759    2000 2001-09-11  0903    New York City, New York   United Air Lines   \n",
       "2760    2000 2001-09-11  1003  Shanksville, Pennsylvania   United Air Lines   \n",
       "\n",
       "     Flight_Num                          Route           Ac_Type Registration  \\\n",
       "2757         77  Washington D.C. - Los Angeles  Boeing B-757-223       N644AA   \n",
       "2758         11           Boston - Los Angeles  Boeing 767-223ER       N334AA   \n",
       "2759        175           Boston - Los Angeles  Boeing B-767-222       N612UA   \n",
       "2760         93         Newark - San Francisco  Boeing B-757-222       N591UA   \n",
       "\n",
       "          Cn_Ln                                       Aboard  \\\n",
       "2757  24602/365   {'total': 64, 'passengers': 58, 'crew': 6}   \n",
       "2758  22332/169  {'total': 92, 'passengers': 81, 'crew': 11}   \n",
       "2759   21873/41   {'total': 65, 'passengers': 56, 'crew': 9}   \n",
       "2760  28142/718   {'total': 44, 'passengers': 37, 'crew': 7}   \n",
       "\n",
       "                                       Fatalities  Ground  \\\n",
       "2757   {'total': 64, 'passengers': 58, 'crew': 6}     125   \n",
       "2758  {'total': 92, 'passengers': 81, 'crew': 11}    2750   \n",
       "2759   {'total': 65, 'passengers': 56, 'crew': 9}    2750   \n",
       "2760   {'total': 44, 'passengers': 37, 'crew': 7}       0   \n",
       "\n",
       "                                                Summary  \n",
       "2757  The aircraft was hijacked after taking off fro...  \n",
       "2758  The aircraft was hijacked shortly after it lef...  \n",
       "2759  The aircraft was hijacked shortly after it lef...  \n",
       "2760  The aircraft was hijacked after taking off fro...  "
      ]
     },
     "execution_count": 45,
     "metadata": {},
     "output_type": "execute_result"
    }
   ],
   "source": [
    "# Checking 9/11\n",
    "df[df.Date == \"2001-09-11\"]"
   ]
  },
  {
   "cell_type": "markdown",
   "metadata": {},
   "source": [
    "For the two plains in 9/11 the ground was counted twice\n",
    "- We split the count into two 2750 / 2 "
   ]
  },
  {
   "cell_type": "code",
   "execution_count": 46,
   "metadata": {},
   "outputs": [
    {
     "name": "stdout",
     "output_type": "stream",
     "text": [
      "1375.0\n"
     ]
    }
   ],
   "source": [
    "print(df.iloc[2759].Ground / 2)\n",
    "df.loc[2758, \"Ground\"] = 1375\n",
    "df.loc[2759, \"Ground\"] = 1375"
   ]
  },
  {
   "cell_type": "markdown",
   "metadata": {},
   "source": [
    "Compare Data source with wiki to cross reference dates and fatalities "
   ]
  },
  {
   "cell_type": "code",
   "execution_count": 47,
   "metadata": {},
   "outputs": [
    {
     "data": {
      "text/html": [
       "<div>\n",
       "<style scoped>\n",
       "    .dataframe tbody tr th:only-of-type {\n",
       "        vertical-align: middle;\n",
       "    }\n",
       "\n",
       "    .dataframe tbody tr th {\n",
       "        vertical-align: top;\n",
       "    }\n",
       "\n",
       "    .dataframe thead th {\n",
       "        text-align: right;\n",
       "    }\n",
       "</style>\n",
       "<table border=\"1\" class=\"dataframe\">\n",
       "  <thead>\n",
       "    <tr style=\"text-align: right;\">\n",
       "      <th></th>\n",
       "      <th>Decade</th>\n",
       "      <th>Date</th>\n",
       "      <th>Time</th>\n",
       "      <th>Location</th>\n",
       "      <th>Operator</th>\n",
       "      <th>Flight_Num</th>\n",
       "      <th>Route</th>\n",
       "      <th>Ac_Type</th>\n",
       "      <th>Registration</th>\n",
       "      <th>Cn_Ln</th>\n",
       "      <th>Aboard</th>\n",
       "      <th>Fatalities</th>\n",
       "      <th>Ground</th>\n",
       "      <th>Summary</th>\n",
       "    </tr>\n",
       "  </thead>\n",
       "  <tbody>\n",
       "    <tr>\n",
       "      <th>2757</th>\n",
       "      <td>2000</td>\n",
       "      <td>2001-09-11</td>\n",
       "      <td>0945</td>\n",
       "      <td>Arlington, Virginia.</td>\n",
       "      <td>American Airlines</td>\n",
       "      <td>77</td>\n",
       "      <td>Washington D.C. - Los Angeles</td>\n",
       "      <td>Boeing B-757-223</td>\n",
       "      <td>N644AA</td>\n",
       "      <td>24602/365</td>\n",
       "      <td>{'total': 64, 'passengers': 58, 'crew': 6}</td>\n",
       "      <td>{'total': 64, 'passengers': 58, 'crew': 6}</td>\n",
       "      <td>125</td>\n",
       "      <td>The aircraft was hijacked after taking off fro...</td>\n",
       "    </tr>\n",
       "    <tr>\n",
       "      <th>2758</th>\n",
       "      <td>2000</td>\n",
       "      <td>2001-09-11</td>\n",
       "      <td>0847</td>\n",
       "      <td>New York City, New York</td>\n",
       "      <td>American Airlines</td>\n",
       "      <td>11</td>\n",
       "      <td>Boston - Los Angeles</td>\n",
       "      <td>Boeing 767-223ER</td>\n",
       "      <td>N334AA</td>\n",
       "      <td>22332/169</td>\n",
       "      <td>{'total': 92, 'passengers': 81, 'crew': 11}</td>\n",
       "      <td>{'total': 92, 'passengers': 81, 'crew': 11}</td>\n",
       "      <td>1375</td>\n",
       "      <td>The aircraft was hijacked shortly after it lef...</td>\n",
       "    </tr>\n",
       "    <tr>\n",
       "      <th>2759</th>\n",
       "      <td>2000</td>\n",
       "      <td>2001-09-11</td>\n",
       "      <td>0903</td>\n",
       "      <td>New York City, New York</td>\n",
       "      <td>United Air Lines</td>\n",
       "      <td>175</td>\n",
       "      <td>Boston - Los Angeles</td>\n",
       "      <td>Boeing B-767-222</td>\n",
       "      <td>N612UA</td>\n",
       "      <td>21873/41</td>\n",
       "      <td>{'total': 65, 'passengers': 56, 'crew': 9}</td>\n",
       "      <td>{'total': 65, 'passengers': 56, 'crew': 9}</td>\n",
       "      <td>1375</td>\n",
       "      <td>The aircraft was hijacked shortly after it lef...</td>\n",
       "    </tr>\n",
       "    <tr>\n",
       "      <th>2760</th>\n",
       "      <td>2000</td>\n",
       "      <td>2001-09-11</td>\n",
       "      <td>1003</td>\n",
       "      <td>Shanksville, Pennsylvania</td>\n",
       "      <td>United Air Lines</td>\n",
       "      <td>93</td>\n",
       "      <td>Newark - San Francisco</td>\n",
       "      <td>Boeing B-757-222</td>\n",
       "      <td>N591UA</td>\n",
       "      <td>28142/718</td>\n",
       "      <td>{'total': 44, 'passengers': 37, 'crew': 7}</td>\n",
       "      <td>{'total': 44, 'passengers': 37, 'crew': 7}</td>\n",
       "      <td>0</td>\n",
       "      <td>The aircraft was hijacked after taking off fro...</td>\n",
       "    </tr>\n",
       "  </tbody>\n",
       "</table>\n",
       "</div>"
      ],
      "text/plain": [
       "      Decade       Date  Time                   Location           Operator  \\\n",
       "2757    2000 2001-09-11  0945       Arlington, Virginia.  American Airlines   \n",
       "2758    2000 2001-09-11  0847    New York City, New York  American Airlines   \n",
       "2759    2000 2001-09-11  0903    New York City, New York   United Air Lines   \n",
       "2760    2000 2001-09-11  1003  Shanksville, Pennsylvania   United Air Lines   \n",
       "\n",
       "     Flight_Num                          Route           Ac_Type Registration  \\\n",
       "2757         77  Washington D.C. - Los Angeles  Boeing B-757-223       N644AA   \n",
       "2758         11           Boston - Los Angeles  Boeing 767-223ER       N334AA   \n",
       "2759        175           Boston - Los Angeles  Boeing B-767-222       N612UA   \n",
       "2760         93         Newark - San Francisco  Boeing B-757-222       N591UA   \n",
       "\n",
       "          Cn_Ln                                       Aboard  \\\n",
       "2757  24602/365   {'total': 64, 'passengers': 58, 'crew': 6}   \n",
       "2758  22332/169  {'total': 92, 'passengers': 81, 'crew': 11}   \n",
       "2759   21873/41   {'total': 65, 'passengers': 56, 'crew': 9}   \n",
       "2760  28142/718   {'total': 44, 'passengers': 37, 'crew': 7}   \n",
       "\n",
       "                                       Fatalities  Ground  \\\n",
       "2757   {'total': 64, 'passengers': 58, 'crew': 6}     125   \n",
       "2758  {'total': 92, 'passengers': 81, 'crew': 11}    1375   \n",
       "2759   {'total': 65, 'passengers': 56, 'crew': 9}    1375   \n",
       "2760   {'total': 44, 'passengers': 37, 'crew': 7}       0   \n",
       "\n",
       "                                                Summary  \n",
       "2757  The aircraft was hijacked after taking off fro...  \n",
       "2758  The aircraft was hijacked shortly after it lef...  \n",
       "2759  The aircraft was hijacked shortly after it lef...  \n",
       "2760  The aircraft was hijacked after taking off fro...  "
      ]
     },
     "execution_count": 47,
     "metadata": {},
     "output_type": "execute_result"
    }
   ],
   "source": [
    "df[df.Date == \"2001-09-11\"]"
   ]
  },
  {
   "cell_type": "code",
   "execution_count": 48,
   "metadata": {},
   "outputs": [
    {
     "data": {
      "text/html": [
       "<div>\n",
       "<style scoped>\n",
       "    .dataframe tbody tr th:only-of-type {\n",
       "        vertical-align: middle;\n",
       "    }\n",
       "\n",
       "    .dataframe tbody tr th {\n",
       "        vertical-align: top;\n",
       "    }\n",
       "\n",
       "    .dataframe thead th {\n",
       "        text-align: right;\n",
       "    }\n",
       "</style>\n",
       "<table border=\"1\" class=\"dataframe\">\n",
       "  <thead>\n",
       "    <tr style=\"text-align: right;\">\n",
       "      <th></th>\n",
       "      <th>Decade</th>\n",
       "      <th>Date</th>\n",
       "      <th>Time</th>\n",
       "      <th>Location</th>\n",
       "      <th>Operator</th>\n",
       "      <th>Flight_Num</th>\n",
       "      <th>Route</th>\n",
       "      <th>Ac_Type</th>\n",
       "      <th>Registration</th>\n",
       "      <th>Cn_Ln</th>\n",
       "      <th>Aboard</th>\n",
       "      <th>Fatalities</th>\n",
       "      <th>Ground</th>\n",
       "      <th>Summary</th>\n",
       "    </tr>\n",
       "  </thead>\n",
       "  <tbody>\n",
       "    <tr>\n",
       "      <th>4639</th>\n",
       "      <td>1970</td>\n",
       "      <td>1977-03-27</td>\n",
       "      <td>1707</td>\n",
       "      <td>Tenerife, Canary Islands</td>\n",
       "      <td>Pan American World Airways / KLM</td>\n",
       "      <td>1736/4805</td>\n",
       "      <td>Tenerife - Las Palmas / Tenerife - Las Palmas</td>\n",
       "      <td>Boeing B-747-121 / Boeing B-747-206B</td>\n",
       "      <td>N736PA/PH-BUF</td>\n",
       "      <td>19643/11 / 20400/157</td>\n",
       "      <td>{'total': 644, 'passengers': 614, 'crew': 30}</td>\n",
       "      <td>{'total': 583, 'passengers': 560, 'crew': 23}</td>\n",
       "      <td>0</td>\n",
       "      <td>Both aircraft were diverted to Tenerife becaus...</td>\n",
       "    </tr>\n",
       "  </tbody>\n",
       "</table>\n",
       "</div>"
      ],
      "text/plain": [
       "      Decade       Date  Time                  Location  \\\n",
       "4639    1970 1977-03-27  1707  Tenerife, Canary Islands   \n",
       "\n",
       "                              Operator Flight_Num  \\\n",
       "4639  Pan American World Airways / KLM  1736/4805   \n",
       "\n",
       "                                              Route  \\\n",
       "4639  Tenerife - Las Palmas / Tenerife - Las Palmas   \n",
       "\n",
       "                                   Ac_Type   Registration  \\\n",
       "4639  Boeing B-747-121 / Boeing B-747-206B  N736PA/PH-BUF   \n",
       "\n",
       "                     Cn_Ln                                         Aboard  \\\n",
       "4639  19643/11 / 20400/157  {'total': 644, 'passengers': 614, 'crew': 30}   \n",
       "\n",
       "                                         Fatalities  Ground  \\\n",
       "4639  {'total': 583, 'passengers': 560, 'crew': 23}       0   \n",
       "\n",
       "                                                Summary  \n",
       "4639  Both aircraft were diverted to Tenerife becaus...  "
      ]
     },
     "execution_count": 48,
     "metadata": {},
     "output_type": "execute_result"
    }
   ],
   "source": [
    "df[df.Date == \"1977-03-27\"]"
   ]
  },
  {
   "cell_type": "code",
   "execution_count": 49,
   "metadata": {},
   "outputs": [
    {
     "data": {
      "text/plain": [
       "Date\n",
       "2001-09-11    4\n",
       "1988-08-31    4\n",
       "1962-11-23    3\n",
       "1971-07-30    3\n",
       "1947-05-29    3\n",
       "             ..\n",
       "1985-02-19    2\n",
       "1969-07-26    2\n",
       "1988-05-26    2\n",
       "1969-08-03    2\n",
       "1968-12-24    2\n",
       "Name: count, Length: 400, dtype: int64"
      ]
     },
     "execution_count": 49,
     "metadata": {},
     "output_type": "execute_result"
    }
   ],
   "source": [
    "df.Date.value_counts()[df.Date.value_counts() > 1]\n",
    "# Good to know that we can have more than one crash in a single day"
   ]
  },
  {
   "cell_type": "code",
   "execution_count": 54,
   "metadata": {},
   "outputs": [
    {
     "name": "stdout",
     "output_type": "stream",
     "text": [
      "<class 'pandas.core.frame.DataFrame'>\n",
      "RangeIndex: 5037 entries, 0 to 5036\n",
      "Data columns (total 14 columns):\n",
      " #   Column        Non-Null Count  Dtype         \n",
      "---  ------        --------------  -----         \n",
      " 0   Decade        5037 non-null   int64         \n",
      " 1   Date          5037 non-null   datetime64[ns]\n",
      " 2   Time          3529 non-null   object        \n",
      " 3   Location      5032 non-null   object        \n",
      " 4   Operator      5026 non-null   object        \n",
      " 5   Flight_Num    1341 non-null   object        \n",
      " 6   Route         4273 non-null   object        \n",
      " 7   Ac_Type       5022 non-null   object        \n",
      " 8   Registration  4761 non-null   object        \n",
      " 9   Cn_Ln         4366 non-null   object        \n",
      " 10  Aboard        5037 non-null   object        \n",
      " 11  Fatalities    5037 non-null   object        \n",
      " 12  Ground        4993 non-null   Int64         \n",
      " 13  Summary       4978 non-null   object        \n",
      "dtypes: Int64(1), datetime64[ns](1), int64(1), object(11)\n",
      "memory usage: 556.0+ KB\n"
     ]
    }
   ],
   "source": [
    "df.info()"
   ]
  }
 ],
 "metadata": {
  "kernelspec": {
   "display_name": "project_2",
   "language": "python",
   "name": "python3"
  },
  "language_info": {
   "codemirror_mode": {
    "name": "ipython",
    "version": 3
   },
   "file_extension": ".py",
   "mimetype": "text/x-python",
   "name": "python",
   "nbconvert_exporter": "python",
   "pygments_lexer": "ipython3",
   "version": "3.12.2"
  }
 },
 "nbformat": 4,
 "nbformat_minor": 2
}
