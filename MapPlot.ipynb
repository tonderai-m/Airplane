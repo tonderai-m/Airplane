{
 "cells": [
  {
   "cell_type": "code",
   "execution_count": 19,
   "metadata": {},
   "outputs": [],
   "source": [
    "import plotly.graph_objects as go\n",
    "import pandas as pd\n",
    "import numpy as np\n"
   ]
  },
  {
   "cell_type": "code",
   "execution_count": 20,
   "metadata": {},
   "outputs": [],
   "source": [
    "df1 = pd.read_csv('data/ready_for_plotting/data_plot_map.csv')"
   ]
  },
  {
   "cell_type": "code",
   "execution_count": 21,
   "metadata": {},
   "outputs": [
    {
     "data": {
      "text/html": [
       "<div>\n",
       "<style scoped>\n",
       "    .dataframe tbody tr th:only-of-type {\n",
       "        vertical-align: middle;\n",
       "    }\n",
       "\n",
       "    .dataframe tbody tr th {\n",
       "        vertical-align: top;\n",
       "    }\n",
       "\n",
       "    .dataframe thead th {\n",
       "        text-align: right;\n",
       "    }\n",
       "</style>\n",
       "<table border=\"1\" class=\"dataframe\">\n",
       "  <thead>\n",
       "    <tr style=\"text-align: right;\">\n",
       "      <th></th>\n",
       "      <th>Decade</th>\n",
       "      <th>Date</th>\n",
       "      <th>Time</th>\n",
       "      <th>Location</th>\n",
       "      <th>Operator</th>\n",
       "      <th>Flight_Num</th>\n",
       "      <th>Route</th>\n",
       "      <th>Ac_Type</th>\n",
       "      <th>Registration</th>\n",
       "      <th>Cn_Ln</th>\n",
       "      <th>Aboard</th>\n",
       "      <th>Fatalities</th>\n",
       "      <th>Ground</th>\n",
       "      <th>Summary</th>\n",
       "      <th>Aboard_Total</th>\n",
       "      <th>Fatalities_Total</th>\n",
       "      <th>Operator_vs_Military</th>\n",
       "      <th>Country_location</th>\n",
       "      <th>Code</th>\n",
       "      <th>Country_Geopy</th>\n",
       "    </tr>\n",
       "  </thead>\n",
       "  <tbody>\n",
       "    <tr>\n",
       "      <th>0</th>\n",
       "      <td>1950</td>\n",
       "      <td>1953-01-05</td>\n",
       "      <td>2139</td>\n",
       "      <td>Belfast, Northern Ireland</td>\n",
       "      <td>British European Airways</td>\n",
       "      <td>NaN</td>\n",
       "      <td>Northolt - Belfast</td>\n",
       "      <td>Vickers Viking 610-1B</td>\n",
       "      <td>G-AJDL</td>\n",
       "      <td>262</td>\n",
       "      <td>{'total': 35, 'passengers': 31, 'crew': 4}</td>\n",
       "      <td>{'total': 27, 'passengers': 24, 'crew': 3}</td>\n",
       "      <td>0.0</td>\n",
       "      <td>Crashed into approach lights while attempting ...</td>\n",
       "      <td>35</td>\n",
       "      <td>27</td>\n",
       "      <td>British European Airways</td>\n",
       "      <td>{'place_id': 372303099, 'licence': 'Data © Ope...</td>\n",
       "      <td>GBR</td>\n",
       "      <td>Northern Ireland, United Kingdom</td>\n",
       "    </tr>\n",
       "    <tr>\n",
       "      <th>1</th>\n",
       "      <td>1950</td>\n",
       "      <td>1953-01-07</td>\n",
       "      <td>2055</td>\n",
       "      <td>Issaquah, Washington</td>\n",
       "      <td>Flying Tiger Line</td>\n",
       "      <td>841</td>\n",
       "      <td>Seattle - Cheyenne - Fort Jackson</td>\n",
       "      <td>Douglas C-54B-10-DO</td>\n",
       "      <td>N86574</td>\n",
       "      <td>18350</td>\n",
       "      <td>{'total': 7, 'passengers': 3, 'crew': 4}</td>\n",
       "      <td>{'total': 7, 'passengers': 3, 'crew': 4}</td>\n",
       "      <td>0.0</td>\n",
       "      <td>The plane struck a tree on a mountain ridge at...</td>\n",
       "      <td>7</td>\n",
       "      <td>7</td>\n",
       "      <td>Flying Tiger Line</td>\n",
       "      <td>{'place_id': 383391892, 'licence': 'Data © Ope...</td>\n",
       "      <td>USA</td>\n",
       "      <td>Washington, United States</td>\n",
       "    </tr>\n",
       "    <tr>\n",
       "      <th>2</th>\n",
       "      <td>1950</td>\n",
       "      <td>1953-01-07</td>\n",
       "      <td>0412</td>\n",
       "      <td>Fish Haven, Idaho</td>\n",
       "      <td>Associated Air Transport</td>\n",
       "      <td>1-6-6A</td>\n",
       "      <td>Boeing Field - Cheyenne</td>\n",
       "      <td>Curtiss C-46</td>\n",
       "      <td>N1648M</td>\n",
       "      <td>22395</td>\n",
       "      <td>{'total': 40, 'passengers': 37, 'crew': 3}</td>\n",
       "      <td>{'total': 40, 'passengers': 37, 'crew': 3}</td>\n",
       "      <td>0.0</td>\n",
       "      <td>The plane crashed into mountains while en rout...</td>\n",
       "      <td>40</td>\n",
       "      <td>40</td>\n",
       "      <td>Associated Air Transport</td>\n",
       "      <td>{'place_id': 315821592, 'licence': 'Data © Ope...</td>\n",
       "      <td>USA</td>\n",
       "      <td>Idaho, United States</td>\n",
       "    </tr>\n",
       "    <tr>\n",
       "      <th>3</th>\n",
       "      <td>1950</td>\n",
       "      <td>1953-01-15</td>\n",
       "      <td>0448</td>\n",
       "      <td>25 nm off Agrigento, Italy</td>\n",
       "      <td>Military -Royal Air Force</td>\n",
       "      <td>-</td>\n",
       "      <td>NaN</td>\n",
       "      <td>Vickers Valetta Mk1 / Avero Lancaster</td>\n",
       "      <td>VX562 / TX270</td>\n",
       "      <td>NaN</td>\n",
       "      <td>{'total': 26, 'passengers': 16, 'crew': 10}</td>\n",
       "      <td>{'total': 26, 'passengers': 16, 'crew': 10}</td>\n",
       "      <td>0.0</td>\n",
       "      <td>Both aircraft crashed after a midair collision...</td>\n",
       "      <td>26</td>\n",
       "      <td>26</td>\n",
       "      <td>Military</td>\n",
       "      <td>{'place_id': 100666283, 'licence': 'Data © Ope...</td>\n",
       "      <td>ITA</td>\n",
       "      <td>Italy</td>\n",
       "    </tr>\n",
       "    <tr>\n",
       "      <th>4</th>\n",
       "      <td>1950</td>\n",
       "      <td>1953-01-26</td>\n",
       "      <td>1144</td>\n",
       "      <td>Sinnai, Sardinia, Italy</td>\n",
       "      <td>Linee Aeree Italiane</td>\n",
       "      <td>NaN</td>\n",
       "      <td>Cagliari - Rome</td>\n",
       "      <td>Douglas DC-3</td>\n",
       "      <td>I-LAIL</td>\n",
       "      <td>4308</td>\n",
       "      <td>{'total': 19, 'passengers': 15, 'crew': 4}</td>\n",
       "      <td>{'total': 19, 'passengers': 15, 'crew': 4}</td>\n",
       "      <td>0.0</td>\n",
       "      <td>Crashed 10 miles east of Cagliari in the Sinna...</td>\n",
       "      <td>19</td>\n",
       "      <td>19</td>\n",
       "      <td>Linee Aeree Italiane</td>\n",
       "      <td>{'place_id': 78523394, 'licence': 'Data © Open...</td>\n",
       "      <td>ITA</td>\n",
       "      <td>Sardinia, Italy</td>\n",
       "    </tr>\n",
       "  </tbody>\n",
       "</table>\n",
       "</div>"
      ],
      "text/plain": [
       "   Decade        Date  Time                    Location  \\\n",
       "0    1950  1953-01-05  2139   Belfast, Northern Ireland   \n",
       "1    1950  1953-01-07  2055        Issaquah, Washington   \n",
       "2    1950  1953-01-07  0412           Fish Haven, Idaho   \n",
       "3    1950  1953-01-15  0448  25 nm off Agrigento, Italy   \n",
       "4    1950  1953-01-26  1144     Sinnai, Sardinia, Italy   \n",
       "\n",
       "                    Operator Flight_Num                              Route  \\\n",
       "0   British European Airways        NaN                 Northolt - Belfast   \n",
       "1          Flying Tiger Line        841  Seattle - Cheyenne - Fort Jackson   \n",
       "2   Associated Air Transport     1-6-6A            Boeing Field - Cheyenne   \n",
       "3  Military -Royal Air Force          -                                NaN   \n",
       "4       Linee Aeree Italiane        NaN                    Cagliari - Rome   \n",
       "\n",
       "                                 Ac_Type   Registration  Cn_Ln  \\\n",
       "0                  Vickers Viking 610-1B         G-AJDL    262   \n",
       "1                    Douglas C-54B-10-DO         N86574  18350   \n",
       "2                           Curtiss C-46         N1648M  22395   \n",
       "3  Vickers Valetta Mk1 / Avero Lancaster  VX562 / TX270    NaN   \n",
       "4                           Douglas DC-3         I-LAIL   4308   \n",
       "\n",
       "                                        Aboard  \\\n",
       "0   {'total': 35, 'passengers': 31, 'crew': 4}   \n",
       "1     {'total': 7, 'passengers': 3, 'crew': 4}   \n",
       "2   {'total': 40, 'passengers': 37, 'crew': 3}   \n",
       "3  {'total': 26, 'passengers': 16, 'crew': 10}   \n",
       "4   {'total': 19, 'passengers': 15, 'crew': 4}   \n",
       "\n",
       "                                    Fatalities  Ground  \\\n",
       "0   {'total': 27, 'passengers': 24, 'crew': 3}     0.0   \n",
       "1     {'total': 7, 'passengers': 3, 'crew': 4}     0.0   \n",
       "2   {'total': 40, 'passengers': 37, 'crew': 3}     0.0   \n",
       "3  {'total': 26, 'passengers': 16, 'crew': 10}     0.0   \n",
       "4   {'total': 19, 'passengers': 15, 'crew': 4}     0.0   \n",
       "\n",
       "                                             Summary  Aboard_Total  \\\n",
       "0  Crashed into approach lights while attempting ...            35   \n",
       "1  The plane struck a tree on a mountain ridge at...             7   \n",
       "2  The plane crashed into mountains while en rout...            40   \n",
       "3  Both aircraft crashed after a midair collision...            26   \n",
       "4  Crashed 10 miles east of Cagliari in the Sinna...            19   \n",
       "\n",
       "   Fatalities_Total      Operator_vs_Military  \\\n",
       "0                27  British European Airways   \n",
       "1                 7         Flying Tiger Line   \n",
       "2                40  Associated Air Transport   \n",
       "3                26                  Military   \n",
       "4                19      Linee Aeree Italiane   \n",
       "\n",
       "                                    Country_location Code  \\\n",
       "0  {'place_id': 372303099, 'licence': 'Data © Ope...  GBR   \n",
       "1  {'place_id': 383391892, 'licence': 'Data © Ope...  USA   \n",
       "2  {'place_id': 315821592, 'licence': 'Data © Ope...  USA   \n",
       "3  {'place_id': 100666283, 'licence': 'Data © Ope...  ITA   \n",
       "4  {'place_id': 78523394, 'licence': 'Data © Open...  ITA   \n",
       "\n",
       "                      Country_Geopy  \n",
       "0  Northern Ireland, United Kingdom  \n",
       "1         Washington, United States  \n",
       "2              Idaho, United States  \n",
       "3                             Italy  \n",
       "4                   Sardinia, Italy  "
      ]
     },
     "execution_count": 21,
     "metadata": {},
     "output_type": "execute_result"
    }
   ],
   "source": [
    "df1.head()"
   ]
  },
  {
   "cell_type": "code",
   "execution_count": 22,
   "metadata": {},
   "outputs": [],
   "source": [
    "def check_unique(x):\n",
    "    return x.split(',')[-1].strip()"
   ]
  },
  {
   "cell_type": "code",
   "execution_count": 23,
   "metadata": {},
   "outputs": [
    {
     "data": {
      "text/plain": [
       "'Afghanistan'"
      ]
     },
     "execution_count": 23,
     "metadata": {},
     "output_type": "execute_result"
    }
   ],
   "source": [
    "'Bamyan Province, Afghanistan'.split(',')[-1].strip()"
   ]
  },
  {
   "cell_type": "code",
   "execution_count": 24,
   "metadata": {},
   "outputs": [],
   "source": [
    "#df2 = df1.groupby(['Code', 'Country_Geopy'])['Code'].count()"
   ]
  },
  {
   "cell_type": "code",
   "execution_count": 25,
   "metadata": {},
   "outputs": [],
   "source": [
    "df1['Country_Geopy2'] = df1.Country_Geopy.apply(check_unique)"
   ]
  },
  {
   "cell_type": "code",
   "execution_count": 26,
   "metadata": {},
   "outputs": [],
   "source": [
    "df2 = df1.groupby(['Code', 'Country_Geopy2'])['Code'].count()"
   ]
  },
  {
   "cell_type": "code",
   "execution_count": 27,
   "metadata": {},
   "outputs": [],
   "source": [
    "df = pd.DataFrame(df2)"
   ]
  },
  {
   "cell_type": "code",
   "execution_count": 28,
   "metadata": {},
   "outputs": [
    {
     "data": {
      "text/html": [
       "<div>\n",
       "<style scoped>\n",
       "    .dataframe tbody tr th:only-of-type {\n",
       "        vertical-align: middle;\n",
       "    }\n",
       "\n",
       "    .dataframe tbody tr th {\n",
       "        vertical-align: top;\n",
       "    }\n",
       "\n",
       "    .dataframe thead th {\n",
       "        text-align: right;\n",
       "    }\n",
       "</style>\n",
       "<table border=\"1\" class=\"dataframe\">\n",
       "  <thead>\n",
       "    <tr style=\"text-align: right;\">\n",
       "      <th></th>\n",
       "      <th></th>\n",
       "      <th>Code Count</th>\n",
       "    </tr>\n",
       "    <tr>\n",
       "      <th>Code</th>\n",
       "      <th>Country_Geopy2</th>\n",
       "      <th></th>\n",
       "    </tr>\n",
       "  </thead>\n",
       "  <tbody>\n",
       "    <tr>\n",
       "      <th>AFG</th>\n",
       "      <th>Afghanistan</th>\n",
       "      <td>45</td>\n",
       "    </tr>\n",
       "    <tr>\n",
       "      <th>AGO</th>\n",
       "      <th>Angola</th>\n",
       "      <td>48</td>\n",
       "    </tr>\n",
       "    <tr>\n",
       "      <th>ALB</th>\n",
       "      <th>Albania</th>\n",
       "      <td>2</td>\n",
       "    </tr>\n",
       "    <tr>\n",
       "      <th>ARE</th>\n",
       "      <th>United Arab Emirates</th>\n",
       "      <td>10</td>\n",
       "    </tr>\n",
       "    <tr>\n",
       "      <th>ARG</th>\n",
       "      <th>Argentina</th>\n",
       "      <td>43</td>\n",
       "    </tr>\n",
       "    <tr>\n",
       "      <th>...</th>\n",
       "      <th>...</th>\n",
       "      <td>...</td>\n",
       "    </tr>\n",
       "    <tr>\n",
       "      <th>WSM</th>\n",
       "      <th>Samoa</th>\n",
       "      <td>2</td>\n",
       "    </tr>\n",
       "    <tr>\n",
       "      <th>YEM</th>\n",
       "      <th>Yemen</th>\n",
       "      <td>7</td>\n",
       "    </tr>\n",
       "    <tr>\n",
       "      <th>ZAF</th>\n",
       "      <th>South Africa</th>\n",
       "      <td>21</td>\n",
       "    </tr>\n",
       "    <tr>\n",
       "      <th>ZMB</th>\n",
       "      <th>Zambia</th>\n",
       "      <td>6</td>\n",
       "    </tr>\n",
       "    <tr>\n",
       "      <th>ZWE</th>\n",
       "      <th>Zimbabwe</th>\n",
       "      <td>4</td>\n",
       "    </tr>\n",
       "  </tbody>\n",
       "</table>\n",
       "<p>191 rows × 1 columns</p>\n",
       "</div>"
      ],
      "text/plain": [
       "                           Code Count\n",
       "Code Country_Geopy2                  \n",
       "AFG  Afghanistan                   45\n",
       "AGO  Angola                        48\n",
       "ALB  Albania                        2\n",
       "ARE  United Arab Emirates          10\n",
       "ARG  Argentina                     43\n",
       "...                               ...\n",
       "WSM  Samoa                          2\n",
       "YEM  Yemen                          7\n",
       "ZAF  South Africa                  21\n",
       "ZMB  Zambia                         6\n",
       "ZWE  Zimbabwe                       4\n",
       "\n",
       "[191 rows x 1 columns]"
      ]
     },
     "execution_count": 28,
     "metadata": {},
     "output_type": "execute_result"
    }
   ],
   "source": [
    "df.columns = ['Code Count']\n",
    "df"
   ]
  },
  {
   "cell_type": "code",
   "execution_count": 29,
   "metadata": {},
   "outputs": [],
   "source": [
    "df['Code'] = df.index.map(lambda x: x[0])"
   ]
  },
  {
   "cell_type": "code",
   "execution_count": 30,
   "metadata": {},
   "outputs": [],
   "source": [
    "df['Country_Geopy2'] = df.index.map(lambda x :x[1])"
   ]
  },
  {
   "cell_type": "code",
   "execution_count": 31,
   "metadata": {},
   "outputs": [
    {
     "data": {
      "text/plain": [
       "['aggrnyl',\n",
       " 'agsunset',\n",
       " 'algae',\n",
       " 'amp',\n",
       " 'armyrose',\n",
       " 'balance',\n",
       " 'blackbody',\n",
       " 'bluered',\n",
       " 'blues',\n",
       " 'blugrn',\n",
       " 'bluyl',\n",
       " 'brbg',\n",
       " 'brwnyl',\n",
       " 'bugn',\n",
       " 'bupu',\n",
       " 'burg',\n",
       " 'burgyl',\n",
       " 'cividis',\n",
       " 'curl',\n",
       " 'darkmint',\n",
       " 'deep',\n",
       " 'delta',\n",
       " 'dense',\n",
       " 'earth',\n",
       " 'edge',\n",
       " 'electric',\n",
       " 'emrld',\n",
       " 'fall',\n",
       " 'geyser',\n",
       " 'gnbu',\n",
       " 'gray',\n",
       " 'greens',\n",
       " 'greys',\n",
       " 'haline',\n",
       " 'hot',\n",
       " 'hsv',\n",
       " 'ice',\n",
       " 'icefire',\n",
       " 'inferno',\n",
       " 'jet',\n",
       " 'magenta',\n",
       " 'magma',\n",
       " 'matter',\n",
       " 'mint',\n",
       " 'mrybm',\n",
       " 'mygbm',\n",
       " 'oranges',\n",
       " 'orrd',\n",
       " 'oryel',\n",
       " 'oxy',\n",
       " 'peach',\n",
       " 'phase',\n",
       " 'picnic',\n",
       " 'pinkyl',\n",
       " 'piyg',\n",
       " 'plasma',\n",
       " 'plotly3',\n",
       " 'portland',\n",
       " 'prgn',\n",
       " 'pubu',\n",
       " 'pubugn',\n",
       " 'puor',\n",
       " 'purd',\n",
       " 'purp',\n",
       " 'purples',\n",
       " 'purpor',\n",
       " 'rainbow',\n",
       " 'rdbu',\n",
       " 'rdgy',\n",
       " 'rdpu',\n",
       " 'rdylbu',\n",
       " 'rdylgn',\n",
       " 'redor',\n",
       " 'reds',\n",
       " 'solar',\n",
       " 'spectral',\n",
       " 'speed',\n",
       " 'sunset',\n",
       " 'sunsetdark',\n",
       " 'teal',\n",
       " 'tealgrn',\n",
       " 'tealrose',\n",
       " 'tempo',\n",
       " 'temps',\n",
       " 'thermal',\n",
       " 'tropic',\n",
       " 'turbid',\n",
       " 'turbo',\n",
       " 'twilight',\n",
       " 'viridis',\n",
       " 'ylgn',\n",
       " 'ylgnbu',\n",
       " 'ylorbr',\n",
       " 'ylorrd']"
      ]
     },
     "execution_count": 31,
     "metadata": {},
     "output_type": "execute_result"
    }
   ],
   "source": [
    "# Colorscale options\n",
    "#['aggrnyl', 'agsunset', 'algae', 'amp', 'armyrose', 'balance',\n",
    "#              'blackbody', 'bluered', 'blues', 'blugrn', 'bluyl', 'brbg',\n",
    "#              'brwnyl', 'bugn', 'bupu', 'burg', 'burgyl', 'cividis', 'curl',\n",
    "#              'darkmint', 'deep', 'delta', 'dense', 'earth', 'edge', 'electric',\n",
    "#              'emrld', 'fall', 'geyser', 'gnbu', 'gray', 'greens', 'greys',\n",
    "#              'haline', 'hot', 'hsv', 'ice', 'icefire', 'inferno', 'jet',\n",
    "#              'magenta', 'magma', 'matter', 'mint', 'mrybm', 'mygbm', 'oranges',\n",
    "#              'orrd', 'oryel', 'oxy', 'peach', 'phase', 'picnic', 'pinkyl',\n",
    "#              'piyg', 'plasma', 'plotly3', 'portland', 'prgn', 'pubu', 'pubugn',\n",
    "#              'puor', 'purd', 'purp', 'purples', 'purpor', 'rainbow', 'rdbu',\n",
    "#              'rdgy', 'rdpu', 'rdylbu', 'rdylgn', 'redor', 'reds', 'solar',\n",
    "#              'spectral', 'speed', 'sunset', 'sunsetdark', 'teal', 'tealgrn',\n",
    "#              'tealrose', 'tempo', 'temps', 'thermal', 'tropic', 'turbid',\n",
    "#              'turbo', 'twilight', 'viridis', 'ylgn', 'ylgnbu', 'ylorbr',\n",
    "#              'ylorrd']"
   ]
  },
  {
   "cell_type": "code",
   "execution_count": 51,
   "metadata": {},
   "outputs": [
    {
     "data": {
      "application/vnd.plotly.v1+json": {
       "config": {
        "plotlyServerURL": "https://plot.ly"
       },
       "data": [
        {
         "autocolorscale": false,
         "colorbar": {
          "len": 0.75,
          "ticktext": [
           "3",
           "10",
           "32",
           "100",
           "316",
           "1000"
          ],
          "tickvals": [
           0.5,
           1,
           1.5,
           2,
           2.5,
           3
          ],
          "x": 0.9
         },
         "colorscale": [
          [
           0,
           "rgb(0, 155, 158)"
          ],
          [
           0.16666666666666666,
           "rgb(66, 183, 185)"
          ],
          [
           0.3333333333333333,
           "rgb(167, 211, 212)"
          ],
          [
           0.5,
           "rgb(241, 241, 241)"
          ],
          [
           0.6666666666666666,
           "rgb(228, 193, 217)"
          ],
          [
           0.8333333333333334,
           "rgb(214, 145, 193)"
          ],
          [
           1,
           "rgb(199, 93, 171)"
          ]
         ],
         "customdata": [
          45,
          48,
          2,
          10,
          43,
          3,
          3,
          1,
          1,
          69,
          19,
          8,
          19,
          1,
          1,
          5,
          12,
          4,
          7,
          2,
          1,
          45,
          178,
          2,
          1,
          1,
          1,
          6,
          157,
          20,
          26,
          86,
          5,
          13,
          51,
          4,
          1,
          157,
          5,
          2,
          12,
          26,
          4,
          4,
          3,
          7,
          128,
          3,
          10,
          24,
          32,
          39,
          1,
          67,
          6,
          18,
          5,
          4,
          126,
          1,
          4,
          142,
          15,
          1,
          3,
          1,
          2,
          3,
          5,
          4,
          31,
          7,
          15,
          4,
          5,
          16,
          17,
          3,
          4,
          10,
          103,
          1,
          106,
          14,
          46,
          14,
          4,
          1,
          87,
          1,
          2,
          7,
          46,
          9,
          20,
          3,
          4,
          18,
          2,
          21,
          8,
          4,
          16,
          1,
          14,
          1,
          2,
          1,
          26,
          1,
          8,
          87,
          1,
          4,
          5,
          7,
          27,
          6,
          6,
          8,
          1,
          2,
          1,
          14,
          1,
          1,
          3,
          35,
          11,
          18,
          26,
          36,
          22,
          2,
          38,
          13,
          54,
          73,
          41,
          14,
          18,
          2,
          17,
          5,
          4,
          2,
          1,
          23,
          259,
          3,
          17,
          28,
          8,
          2,
          2,
          2,
          4,
          10,
          3,
          4,
          2,
          5,
          2,
          1,
          11,
          9,
          2,
          21,
          67,
          3,
          1,
          3,
          2,
          31,
          36,
          6,
          5,
          20,
          6,
          1036,
          8,
          56,
          1,
          9,
          25,
          3,
          2,
          7,
          21,
          6,
          4
         ],
         "hovertemplate": "Total Crashes:%{customdata}",
         "locations": [
          "AFG",
          "AGO",
          "ALB",
          "ARE",
          "ARG",
          "ARM",
          "ASM",
          "ATA",
          "ATG",
          "AUS",
          "AUT",
          "AZE",
          "BEL",
          "BEN",
          "BFA",
          "BGD",
          "BGR",
          "BHR",
          "BHS",
          "BIH",
          "BMU",
          "BOL",
          "BRA",
          "BRB",
          "BRN",
          "BTN",
          "BWA",
          "CAF",
          "CAN",
          "CHE",
          "CHL",
          "CHN",
          "CIV",
          "CMR",
          "COD",
          "COG",
          "COK",
          "COL",
          "COM",
          "CPV",
          "CRI",
          "CUB",
          "CUW",
          "CYP",
          "CZE",
          "Country_Geopy\nDominican Republic    DMA\nDominican Republic    DOM\nName: alpha-3, dtype: object",
          "DEU",
          "DJI",
          "DNK",
          "DZA",
          "ECU",
          "EGY",
          "ERI",
          "ESP",
          "EST",
          "ETH",
          "FIN",
          "FJI",
          "FRA",
          "FSM",
          "GAB",
          "GBR",
          "GEO",
          "GGY",
          "GHA",
          "GIB",
          "GIN",
          "GLP",
          "GMB",
          "GNQ",
          "GRC",
          "GRL",
          "GTM",
          "GUM",
          "GUY",
          "HKG",
          "HND",
          "HRV",
          "HTI",
          "HUN",
          "IDN",
          "IMN",
          "IND",
          "IRL",
          "IRN",
          "IRQ",
          "ISL",
          "ISR",
          "ITA",
          "JAM",
          "JEY",
          "JOR",
          "JPN",
          "KAZ",
          "KEN",
          "KGZ",
          "KHM",
          "KOR",
          "KWT",
          "LAO",
          "LBN",
          "LBR",
          "LBY",
          "LCA",
          "LKA",
          "LSO",
          "LUX",
          "LVA",
          "MAR",
          "MDA",
          "MDG",
          "MEX",
          "MHL",
          "MKD",
          "MLI",
          "MLT",
          "MMR",
          "MNG",
          "MOZ",
          "MRT",
          "MSR",
          "MTQ",
          "MWI",
          "MYS",
          "NAM",
          "NCL",
          "NER",
          "NGA",
          "NIC",
          "NLD",
          "NOR",
          "NPL",
          "NZL",
          "OMN",
          "PAK",
          "PAN",
          "PER",
          "PHL",
          "PNG",
          "POL",
          "PRI",
          "PRK",
          "PRT",
          "PRY",
          "PYF",
          "QAT",
          "REU",
          "ROU",
          "RUS",
          "RWA",
          "SAU",
          "SDN",
          "SEN",
          "SGP",
          "SLB",
          "SLE",
          "SLV",
          "SOM",
          "SRB",
          "SSD",
          "STP",
          "SUR",
          "SVK",
          "SVN",
          "SWE",
          "SYR",
          "TCD",
          "THA",
          "TJK",
          "TKM",
          "TLS",
          "TTO",
          "TUN",
          "TUR",
          "TWN",
          "TZA",
          "UGA",
          "UKR",
          "URY",
          "USA",
          "UZB",
          "VEN",
          "VGB",
          "VIR",
          "VNM",
          "VUT",
          "WSM",
          "YEM",
          "ZAF",
          "ZMB",
          "ZWE"
         ],
         "marker": {
          "line": {
           "color": "darkgray",
           "width": 0.5
          }
         },
         "reversescale": false,
         "text": [
          "Afghanistan",
          "Angola",
          "Albania",
          "United Arab Emirates",
          "Argentina",
          "Armenia",
          "United States",
          "Antarctica",
          "Antigua and Barbuda",
          "Australia",
          "Austria",
          "Azerbaijan",
          "Belgium",
          "Benin",
          "Burkina Faso",
          "Bangladesh",
          "Bulgaria",
          "Bahrain",
          "Bahamas",
          "Bosnia and Herzegovina",
          "Bermuda",
          "Bolivia",
          "Brazil",
          "Barbados",
          "Brunei",
          "Bhutan",
          "Botswana",
          "Central African Republic",
          "Canada",
          "Switzerland",
          "Chile",
          "China",
          "Côte d'Ivoire",
          "Cameroon",
          "Democratic Republic of the Congo",
          "Congo-Brazzaville",
          "Cook Islands",
          "Colombia",
          "Comoros",
          "Cape Verde",
          "Costa Rica",
          "Cuba",
          "Netherlands",
          "Cyprus",
          "Czechia",
          "Dominican Republic",
          "Germany",
          "Djibouti",
          "Denmark",
          "Algeria",
          "Ecuador",
          "Egypt",
          "Eritrea",
          "Spain",
          "Estonia",
          "Ethiopia",
          "Finland",
          "Fiji",
          "France",
          "Federated States of Micronesia",
          "Gabon",
          "United Kingdom",
          "Georgia",
          "Guernsey",
          "Ghana",
          "Gibraltar",
          "Guinea",
          "France",
          "The Gambia",
          "Equatorial Guinea",
          "Greece",
          "Greenland",
          "Guatemala",
          "United States",
          "Guyana",
          "China",
          "Honduras",
          "Croatia",
          "Haiti",
          "Hungary",
          "Indonesia",
          "Isle of Man",
          "India",
          "Ireland",
          "Iran",
          "Iraq",
          "Iceland",
          "Israel",
          "Italy",
          "Jamaica",
          "Jersey",
          "Jordan",
          "Japan",
          "Kazakhstan",
          "Kenya",
          "Kyrgyzstan",
          "Cambodia",
          "South Korea",
          "Kuwait",
          "Laos",
          "Lebanon",
          "Liberia",
          "Libya",
          "Saint Lucia",
          "Sri Lanka",
          "Lesotho",
          "Luxembourg",
          "Latvia",
          "Morocco",
          "Moldova",
          "Madagascar",
          "Mexico",
          "Marshall Islands",
          "North Macedonia",
          "Mali",
          "Malta",
          "Myanmar",
          "Mongolia",
          "Mozambique",
          "Mauritania",
          "Montserrat",
          "France",
          "Malawi",
          "Malaysia",
          "Namibia",
          "France",
          "Niger",
          "Nigeria",
          "Nicaragua",
          "Netherlands",
          "Norway",
          "Nepal",
          "New Zealand",
          "Oman",
          "Pakistan",
          "Panama",
          "Peru",
          "Philippines",
          "Papua New Guinea",
          "Poland",
          "United States",
          "North Korea",
          "Portugal",
          "Paraguay",
          "France",
          "Qatar",
          "France",
          "Romania",
          "Russia",
          "Rwanda",
          "Saudi Arabia",
          "Sudan",
          "Senegal",
          "Singapore",
          "Solomon Islands",
          "Sierra Leone",
          "El Salvador",
          "Somalia",
          "Serbia",
          "South Sudan",
          "São Tomé and Príncipe",
          "Suriname",
          "Slovakia",
          "Slovenia",
          "Sweden",
          "Syria",
          "Chad",
          "Thailand",
          "Tajikistan",
          "Turkmenistan",
          "East Timor",
          "Trinidad and Tobago",
          "Tunisia",
          "Turkey",
          "Taiwan",
          "Tanzania",
          "Uganda",
          "Ukraine",
          "Uruguay",
          "United States",
          "Uzbekistan",
          "Venezuela",
          "British Virgin Islands",
          "United States",
          "Vietnam",
          "Vanuatu",
          "Samoa",
          "Yemen",
          "South Africa",
          "Zambia",
          "Zimbabwe"
         ],
         "type": "choropleth",
         "z": [
          1.6532125137753437,
          1.6812412373755872,
          0.3010299956639812,
          1,
          1.6334684555795864,
          0.47712125471966244,
          0.47712125471966244,
          0,
          0,
          1.8388490907372552,
          1.2787536009528289,
          0.9030899869919435,
          1.2787536009528289,
          0,
          0,
          0.6989700043360189,
          1.0791812460476249,
          0.6020599913279624,
          0.8450980400142568,
          0.3010299956639812,
          0,
          1.6532125137753437,
          2.250420002308894,
          0.3010299956639812,
          0,
          0,
          0,
          0.7781512503836436,
          2.1958996524092336,
          1.3010299956639813,
          1.414973347970818,
          1.9344984512435677,
          0.6989700043360189,
          1.1139433523068367,
          1.7075701760979363,
          0.6020599913279624,
          0,
          2.1958996524092336,
          0.6989700043360189,
          0.3010299956639812,
          1.0791812460476249,
          1.414973347970818,
          0.6020599913279624,
          0.6020599913279624,
          0.47712125471966244,
          0.8450980400142568,
          2.1072099696478683,
          0.47712125471966244,
          1,
          1.380211241711606,
          1.505149978319906,
          1.591064607026499,
          0,
          1.8260748027008264,
          0.7781512503836436,
          1.255272505103306,
          0.6989700043360189,
          0.6020599913279624,
          2.100370545117563,
          0,
          0.6020599913279624,
          2.1522883443830563,
          1.1760912590556813,
          0,
          0.47712125471966244,
          0,
          0.3010299956639812,
          0.47712125471966244,
          0.6989700043360189,
          0.6020599913279624,
          1.4913616938342726,
          0.8450980400142568,
          1.1760912590556813,
          0.6020599913279624,
          0.6989700043360189,
          1.2041199826559248,
          1.2304489213782739,
          0.47712125471966244,
          0.6020599913279624,
          1,
          2.012837224705172,
          0,
          2.0253058652647704,
          1.146128035678238,
          1.662757831681574,
          1.146128035678238,
          0.6020599913279624,
          0,
          1.9395192526186185,
          0,
          0.3010299956639812,
          0.8450980400142568,
          1.662757831681574,
          0.9542425094393249,
          1.3010299956639813,
          0.47712125471966244,
          0.6020599913279624,
          1.255272505103306,
          0.3010299956639812,
          1.3222192947339193,
          0.9030899869919435,
          0.6020599913279624,
          1.2041199826559248,
          0,
          1.146128035678238,
          0,
          0.3010299956639812,
          0,
          1.414973347970818,
          0,
          0.9030899869919435,
          1.9395192526186185,
          0,
          0.6020599913279624,
          0.6989700043360189,
          0.8450980400142568,
          1.4313637641589874,
          0.7781512503836436,
          0.7781512503836436,
          0.9030899869919435,
          0,
          0.3010299956639812,
          0,
          1.146128035678238,
          0,
          0,
          0.47712125471966244,
          1.5440680443502757,
          1.0413926851582251,
          1.255272505103306,
          1.414973347970818,
          1.5563025007672873,
          1.3424226808222062,
          0.3010299956639812,
          1.5797835966168101,
          1.1139433523068367,
          1.7323937598229686,
          1.863322860120456,
          1.6127838567197355,
          1.146128035678238,
          1.255272505103306,
          0.3010299956639812,
          1.2304489213782739,
          0.6989700043360189,
          0.6020599913279624,
          0.3010299956639812,
          0,
          1.3617278360175928,
          2.413299764081252,
          0.47712125471966244,
          1.2304489213782739,
          1.4471580313422192,
          0.9030899869919435,
          0.3010299956639812,
          0.3010299956639812,
          0.3010299956639812,
          0.6020599913279624,
          1,
          0.47712125471966244,
          0.6020599913279624,
          0.3010299956639812,
          0.6989700043360189,
          0.3010299956639812,
          0,
          1.0413926851582251,
          0.9542425094393249,
          0.3010299956639812,
          1.3222192947339193,
          1.8260748027008264,
          0.47712125471966244,
          0,
          0.47712125471966244,
          0.3010299956639812,
          1.4913616938342726,
          1.5563025007672873,
          0.7781512503836436,
          0.6989700043360189,
          1.3010299956639813,
          0.7781512503836436,
          3.0153597554092144,
          0.9030899869919435,
          1.7481880270062005,
          0,
          0.9542425094393249,
          1.3979400086720377,
          0.47712125471966244,
          0.3010299956639812,
          0.8450980400142568,
          1.3222192947339193,
          0.7781512503836436,
          0.6020599913279624
         ]
        }
       ],
       "layout": {
        "annotations": [
         {
          "showarrow": false,
          "text": "Source:<a href=\"https://www.planecrashinfo.com/database.htm\"> Plane Crash Info</a>",
          "x": 0.55,
          "xref": "paper",
          "y": 0.1,
          "yref": "paper"
         }
        ],
        "geo": {
         "projection": {
          "type": "equirectangular"
         },
         "showcoastlines": false,
         "showframe": false
        },
        "template": {
         "data": {
          "bar": [
           {
            "error_x": {
             "color": "#2a3f5f"
            },
            "error_y": {
             "color": "#2a3f5f"
            },
            "marker": {
             "line": {
              "color": "#E5ECF6",
              "width": 0.5
             },
             "pattern": {
              "fillmode": "overlay",
              "size": 10,
              "solidity": 0.2
             }
            },
            "type": "bar"
           }
          ],
          "barpolar": [
           {
            "marker": {
             "line": {
              "color": "#E5ECF6",
              "width": 0.5
             },
             "pattern": {
              "fillmode": "overlay",
              "size": 10,
              "solidity": 0.2
             }
            },
            "type": "barpolar"
           }
          ],
          "carpet": [
           {
            "aaxis": {
             "endlinecolor": "#2a3f5f",
             "gridcolor": "white",
             "linecolor": "white",
             "minorgridcolor": "white",
             "startlinecolor": "#2a3f5f"
            },
            "baxis": {
             "endlinecolor": "#2a3f5f",
             "gridcolor": "white",
             "linecolor": "white",
             "minorgridcolor": "white",
             "startlinecolor": "#2a3f5f"
            },
            "type": "carpet"
           }
          ],
          "choropleth": [
           {
            "colorbar": {
             "outlinewidth": 0,
             "ticks": ""
            },
            "type": "choropleth"
           }
          ],
          "contour": [
           {
            "colorbar": {
             "outlinewidth": 0,
             "ticks": ""
            },
            "colorscale": [
             [
              0,
              "#0d0887"
             ],
             [
              0.1111111111111111,
              "#46039f"
             ],
             [
              0.2222222222222222,
              "#7201a8"
             ],
             [
              0.3333333333333333,
              "#9c179e"
             ],
             [
              0.4444444444444444,
              "#bd3786"
             ],
             [
              0.5555555555555556,
              "#d8576b"
             ],
             [
              0.6666666666666666,
              "#ed7953"
             ],
             [
              0.7777777777777778,
              "#fb9f3a"
             ],
             [
              0.8888888888888888,
              "#fdca26"
             ],
             [
              1,
              "#f0f921"
             ]
            ],
            "type": "contour"
           }
          ],
          "contourcarpet": [
           {
            "colorbar": {
             "outlinewidth": 0,
             "ticks": ""
            },
            "type": "contourcarpet"
           }
          ],
          "heatmap": [
           {
            "colorbar": {
             "outlinewidth": 0,
             "ticks": ""
            },
            "colorscale": [
             [
              0,
              "#0d0887"
             ],
             [
              0.1111111111111111,
              "#46039f"
             ],
             [
              0.2222222222222222,
              "#7201a8"
             ],
             [
              0.3333333333333333,
              "#9c179e"
             ],
             [
              0.4444444444444444,
              "#bd3786"
             ],
             [
              0.5555555555555556,
              "#d8576b"
             ],
             [
              0.6666666666666666,
              "#ed7953"
             ],
             [
              0.7777777777777778,
              "#fb9f3a"
             ],
             [
              0.8888888888888888,
              "#fdca26"
             ],
             [
              1,
              "#f0f921"
             ]
            ],
            "type": "heatmap"
           }
          ],
          "heatmapgl": [
           {
            "colorbar": {
             "outlinewidth": 0,
             "ticks": ""
            },
            "colorscale": [
             [
              0,
              "#0d0887"
             ],
             [
              0.1111111111111111,
              "#46039f"
             ],
             [
              0.2222222222222222,
              "#7201a8"
             ],
             [
              0.3333333333333333,
              "#9c179e"
             ],
             [
              0.4444444444444444,
              "#bd3786"
             ],
             [
              0.5555555555555556,
              "#d8576b"
             ],
             [
              0.6666666666666666,
              "#ed7953"
             ],
             [
              0.7777777777777778,
              "#fb9f3a"
             ],
             [
              0.8888888888888888,
              "#fdca26"
             ],
             [
              1,
              "#f0f921"
             ]
            ],
            "type": "heatmapgl"
           }
          ],
          "histogram": [
           {
            "marker": {
             "pattern": {
              "fillmode": "overlay",
              "size": 10,
              "solidity": 0.2
             }
            },
            "type": "histogram"
           }
          ],
          "histogram2d": [
           {
            "colorbar": {
             "outlinewidth": 0,
             "ticks": ""
            },
            "colorscale": [
             [
              0,
              "#0d0887"
             ],
             [
              0.1111111111111111,
              "#46039f"
             ],
             [
              0.2222222222222222,
              "#7201a8"
             ],
             [
              0.3333333333333333,
              "#9c179e"
             ],
             [
              0.4444444444444444,
              "#bd3786"
             ],
             [
              0.5555555555555556,
              "#d8576b"
             ],
             [
              0.6666666666666666,
              "#ed7953"
             ],
             [
              0.7777777777777778,
              "#fb9f3a"
             ],
             [
              0.8888888888888888,
              "#fdca26"
             ],
             [
              1,
              "#f0f921"
             ]
            ],
            "type": "histogram2d"
           }
          ],
          "histogram2dcontour": [
           {
            "colorbar": {
             "outlinewidth": 0,
             "ticks": ""
            },
            "colorscale": [
             [
              0,
              "#0d0887"
             ],
             [
              0.1111111111111111,
              "#46039f"
             ],
             [
              0.2222222222222222,
              "#7201a8"
             ],
             [
              0.3333333333333333,
              "#9c179e"
             ],
             [
              0.4444444444444444,
              "#bd3786"
             ],
             [
              0.5555555555555556,
              "#d8576b"
             ],
             [
              0.6666666666666666,
              "#ed7953"
             ],
             [
              0.7777777777777778,
              "#fb9f3a"
             ],
             [
              0.8888888888888888,
              "#fdca26"
             ],
             [
              1,
              "#f0f921"
             ]
            ],
            "type": "histogram2dcontour"
           }
          ],
          "mesh3d": [
           {
            "colorbar": {
             "outlinewidth": 0,
             "ticks": ""
            },
            "type": "mesh3d"
           }
          ],
          "parcoords": [
           {
            "line": {
             "colorbar": {
              "outlinewidth": 0,
              "ticks": ""
             }
            },
            "type": "parcoords"
           }
          ],
          "pie": [
           {
            "automargin": true,
            "type": "pie"
           }
          ],
          "scatter": [
           {
            "fillpattern": {
             "fillmode": "overlay",
             "size": 10,
             "solidity": 0.2
            },
            "type": "scatter"
           }
          ],
          "scatter3d": [
           {
            "line": {
             "colorbar": {
              "outlinewidth": 0,
              "ticks": ""
             }
            },
            "marker": {
             "colorbar": {
              "outlinewidth": 0,
              "ticks": ""
             }
            },
            "type": "scatter3d"
           }
          ],
          "scattercarpet": [
           {
            "marker": {
             "colorbar": {
              "outlinewidth": 0,
              "ticks": ""
             }
            },
            "type": "scattercarpet"
           }
          ],
          "scattergeo": [
           {
            "marker": {
             "colorbar": {
              "outlinewidth": 0,
              "ticks": ""
             }
            },
            "type": "scattergeo"
           }
          ],
          "scattergl": [
           {
            "marker": {
             "colorbar": {
              "outlinewidth": 0,
              "ticks": ""
             }
            },
            "type": "scattergl"
           }
          ],
          "scattermapbox": [
           {
            "marker": {
             "colorbar": {
              "outlinewidth": 0,
              "ticks": ""
             }
            },
            "type": "scattermapbox"
           }
          ],
          "scatterpolar": [
           {
            "marker": {
             "colorbar": {
              "outlinewidth": 0,
              "ticks": ""
             }
            },
            "type": "scatterpolar"
           }
          ],
          "scatterpolargl": [
           {
            "marker": {
             "colorbar": {
              "outlinewidth": 0,
              "ticks": ""
             }
            },
            "type": "scatterpolargl"
           }
          ],
          "scatterternary": [
           {
            "marker": {
             "colorbar": {
              "outlinewidth": 0,
              "ticks": ""
             }
            },
            "type": "scatterternary"
           }
          ],
          "surface": [
           {
            "colorbar": {
             "outlinewidth": 0,
             "ticks": ""
            },
            "colorscale": [
             [
              0,
              "#0d0887"
             ],
             [
              0.1111111111111111,
              "#46039f"
             ],
             [
              0.2222222222222222,
              "#7201a8"
             ],
             [
              0.3333333333333333,
              "#9c179e"
             ],
             [
              0.4444444444444444,
              "#bd3786"
             ],
             [
              0.5555555555555556,
              "#d8576b"
             ],
             [
              0.6666666666666666,
              "#ed7953"
             ],
             [
              0.7777777777777778,
              "#fb9f3a"
             ],
             [
              0.8888888888888888,
              "#fdca26"
             ],
             [
              1,
              "#f0f921"
             ]
            ],
            "type": "surface"
           }
          ],
          "table": [
           {
            "cells": {
             "fill": {
              "color": "#EBF0F8"
             },
             "line": {
              "color": "white"
             }
            },
            "header": {
             "fill": {
              "color": "#C8D4E3"
             },
             "line": {
              "color": "white"
             }
            },
            "type": "table"
           }
          ]
         },
         "layout": {
          "annotationdefaults": {
           "arrowcolor": "#2a3f5f",
           "arrowhead": 0,
           "arrowwidth": 1
          },
          "autotypenumbers": "strict",
          "coloraxis": {
           "colorbar": {
            "outlinewidth": 0,
            "ticks": ""
           }
          },
          "colorscale": {
           "diverging": [
            [
             0,
             "#8e0152"
            ],
            [
             0.1,
             "#c51b7d"
            ],
            [
             0.2,
             "#de77ae"
            ],
            [
             0.3,
             "#f1b6da"
            ],
            [
             0.4,
             "#fde0ef"
            ],
            [
             0.5,
             "#f7f7f7"
            ],
            [
             0.6,
             "#e6f5d0"
            ],
            [
             0.7,
             "#b8e186"
            ],
            [
             0.8,
             "#7fbc41"
            ],
            [
             0.9,
             "#4d9221"
            ],
            [
             1,
             "#276419"
            ]
           ],
           "sequential": [
            [
             0,
             "#0d0887"
            ],
            [
             0.1111111111111111,
             "#46039f"
            ],
            [
             0.2222222222222222,
             "#7201a8"
            ],
            [
             0.3333333333333333,
             "#9c179e"
            ],
            [
             0.4444444444444444,
             "#bd3786"
            ],
            [
             0.5555555555555556,
             "#d8576b"
            ],
            [
             0.6666666666666666,
             "#ed7953"
            ],
            [
             0.7777777777777778,
             "#fb9f3a"
            ],
            [
             0.8888888888888888,
             "#fdca26"
            ],
            [
             1,
             "#f0f921"
            ]
           ],
           "sequentialminus": [
            [
             0,
             "#0d0887"
            ],
            [
             0.1111111111111111,
             "#46039f"
            ],
            [
             0.2222222222222222,
             "#7201a8"
            ],
            [
             0.3333333333333333,
             "#9c179e"
            ],
            [
             0.4444444444444444,
             "#bd3786"
            ],
            [
             0.5555555555555556,
             "#d8576b"
            ],
            [
             0.6666666666666666,
             "#ed7953"
            ],
            [
             0.7777777777777778,
             "#fb9f3a"
            ],
            [
             0.8888888888888888,
             "#fdca26"
            ],
            [
             1,
             "#f0f921"
            ]
           ]
          },
          "colorway": [
           "#636efa",
           "#EF553B",
           "#00cc96",
           "#ab63fa",
           "#FFA15A",
           "#19d3f3",
           "#FF6692",
           "#B6E880",
           "#FF97FF",
           "#FECB52"
          ],
          "font": {
           "color": "#2a3f5f"
          },
          "geo": {
           "bgcolor": "white",
           "lakecolor": "white",
           "landcolor": "#E5ECF6",
           "showlakes": true,
           "showland": true,
           "subunitcolor": "white"
          },
          "hoverlabel": {
           "align": "left"
          },
          "hovermode": "closest",
          "mapbox": {
           "style": "light"
          },
          "paper_bgcolor": "white",
          "plot_bgcolor": "#E5ECF6",
          "polar": {
           "angularaxis": {
            "gridcolor": "white",
            "linecolor": "white",
            "ticks": ""
           },
           "bgcolor": "#E5ECF6",
           "radialaxis": {
            "gridcolor": "white",
            "linecolor": "white",
            "ticks": ""
           }
          },
          "scene": {
           "xaxis": {
            "backgroundcolor": "#E5ECF6",
            "gridcolor": "white",
            "gridwidth": 2,
            "linecolor": "white",
            "showbackground": true,
            "ticks": "",
            "zerolinecolor": "white"
           },
           "yaxis": {
            "backgroundcolor": "#E5ECF6",
            "gridcolor": "white",
            "gridwidth": 2,
            "linecolor": "white",
            "showbackground": true,
            "ticks": "",
            "zerolinecolor": "white"
           },
           "zaxis": {
            "backgroundcolor": "#E5ECF6",
            "gridcolor": "white",
            "gridwidth": 2,
            "linecolor": "white",
            "showbackground": true,
            "ticks": "",
            "zerolinecolor": "white"
           }
          },
          "shapedefaults": {
           "line": {
            "color": "#2a3f5f"
           }
          },
          "ternary": {
           "aaxis": {
            "gridcolor": "white",
            "linecolor": "white",
            "ticks": ""
           },
           "baxis": {
            "gridcolor": "white",
            "linecolor": "white",
            "ticks": ""
           },
           "bgcolor": "#E5ECF6",
           "caxis": {
            "gridcolor": "white",
            "linecolor": "white",
            "ticks": ""
           }
          },
          "title": {
           "x": 0.05
          },
          "xaxis": {
           "automargin": true,
           "gridcolor": "white",
           "linecolor": "white",
           "ticks": "",
           "title": {
            "standoff": 15
           },
           "zerolinecolor": "white",
           "zerolinewidth": 2
          },
          "yaxis": {
           "automargin": true,
           "gridcolor": "white",
           "linecolor": "white",
           "ticks": "",
           "title": {
            "standoff": 15
           },
           "zerolinecolor": "white",
           "zerolinewidth": 2
          }
         }
        },
        "title": {
         "text": "Plane Crashes from 1920 - 2024"
        }
       }
      }
     },
     "metadata": {},
     "output_type": "display_data"
    }
   ],
   "source": [
    "fig = go.Figure(data=go.Choropleth(\n",
    "    locations = df['Code'],\n",
    "    z=np.log10(df['Code Count']),\n",
    "    customdata=df['Code Count'],\n",
    "    hovertemplate='Total Crashes:%{customdata}',\n",
    "    text = df['Country_Geopy2'],\n",
    "    colorscale = 'tropic',\n",
    "    autocolorscale=False ,\n",
    "    reversescale=False,\n",
    "    marker_line_color='darkgray',\n",
    "    marker_line_width=0.5,\n",
    "    colorbar=dict(len=0.75,\n",
    "                  #title='#Cases', \n",
    "                  x=0.9,\n",
    "                  tickvals = [0.5, 1, 1.5, 2, 2.5, 3],\n",
    "                  ticktext = ['3', '10', '32', '100', '316', '1000']),\n",
    "    \n",
    "))\n",
    "\n",
    "fig.update_layout(\n",
    "    title_text='Plane Crashes from 1920 - 2024',\n",
    "    geo=dict(\n",
    "        showframe=False,\n",
    "        showcoastlines=False,\n",
    "        projection_type='equirectangular'\n",
    "    ),\n",
    "    annotations = [dict(\n",
    "        x=0.55,\n",
    "        y=0.1,\n",
    "        xref='paper',\n",
    "        yref='paper',\n",
    "        text='Source:<a href=\"https://www.planecrashinfo.com/database.htm\"> Plane Crash Info</a>',\n",
    "        showarrow = False\n",
    "    )]\n",
    ")\n",
    "\n",
    "fig.show()"
   ]
  }
 ],
 "metadata": {
  "kernelspec": {
   "display_name": "200project2",
   "language": "python",
   "name": "python3"
  },
  "language_info": {
   "codemirror_mode": {
    "name": "ipython",
    "version": 3
   },
   "file_extension": ".py",
   "mimetype": "text/x-python",
   "name": "python",
   "nbconvert_exporter": "python",
   "pygments_lexer": "ipython3",
   "version": "3.12.2"
  }
 },
 "nbformat": 4,
 "nbformat_minor": 2
}
